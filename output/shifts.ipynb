{
 "cells": [
  {
   "cell_type": "markdown",
   "metadata": {},
   "source": []
  },
  {
   "cell_type": "code",
   "execution_count": 177,
   "metadata": {},
   "outputs": [],
   "source": [
    "#!pip install plotly\n",
    "import pandas as pd\n",
    "import plotly.express as px\n",
    "import plotly.graph_objects as go\n",
    "import json\n",
    "#!pip install nbformat\n",
    "import nbformat"
   ]
  },
  {
   "cell_type": "markdown",
   "metadata": {},
   "source": [
    "## This is a notebook used just to visualise the solution and create the chart in the output folder"
   ]
  },
  {
   "cell_type": "code",
   "execution_count": 178,
   "metadata": {},
   "outputs": [
    {
     "data": {
      "application/vnd.plotly.v1+json": {
       "config": {
        "plotlyServerURL": "https://plot.ly"
       },
       "data": [
        {
         "alignmentgroup": "True",
         "base": [
          "2024-01-07T00:00:00",
          "2024-01-06T00:00:00",
          "2024-01-05T00:00:00",
          "2024-01-04T00:00:00",
          "2024-01-02T12:00:00",
          "2024-01-01T00:00:00"
         ],
         "hovertemplate": "Staff=%{y}<br>Shift Start=%{base}<br>Shift End=%{x}<br>shift_duration=%{text}<extra></extra>",
         "legendgroup": "405",
         "marker": {
          "color": "#636efa",
          "pattern": {
           "shape": ""
          }
         },
         "name": "405",
         "offsetgroup": "405",
         "orientation": "h",
         "showlegend": true,
         "text": [
          12,
          12,
          12,
          12,
          12,
          12
         ],
         "textposition": "auto",
         "type": "bar",
         "x": [
          43200000,
          43200000,
          43200000,
          43200000,
          43200000,
          43200000
         ],
         "xaxis": "x",
         "y": [
          "405",
          "405",
          "405",
          "405",
          "405",
          "405"
         ],
         "yaxis": "y"
        },
        {
         "alignmentgroup": "True",
         "base": [
          "2024-01-04T12:00:00",
          "2024-01-01T00:00:00",
          "2024-01-02T00:00:00",
          "2024-01-03T00:00:00",
          "2024-01-05T12:00:00",
          "2024-01-07T00:00:00"
         ],
         "hovertemplate": "Staff=%{y}<br>Shift Start=%{base}<br>Shift End=%{x}<br>shift_duration=%{text}<extra></extra>",
         "legendgroup": "404",
         "marker": {
          "color": "#EF553B",
          "pattern": {
           "shape": ""
          }
         },
         "name": "404",
         "offsetgroup": "404",
         "orientation": "h",
         "showlegend": true,
         "text": [
          12,
          12,
          12,
          12,
          12,
          12
         ],
         "textposition": "auto",
         "type": "bar",
         "x": [
          43200000,
          43200000,
          43200000,
          43200000,
          43200000,
          43200000
         ],
         "xaxis": "x",
         "y": [
          "404",
          "404",
          "404",
          "404",
          "404",
          "404"
         ],
         "yaxis": "y"
        },
        {
         "alignmentgroup": "True",
         "base": [
          "2024-01-07T12:00:00",
          "2024-01-06T12:00:00",
          "2024-01-05T12:00:00",
          "2024-01-04T12:00:00",
          "2024-01-03T12:00:00",
          "2024-01-02T00:00:00"
         ],
         "hovertemplate": "Staff=%{y}<br>Shift Start=%{base}<br>Shift End=%{x}<br>shift_duration=%{text}<extra></extra>",
         "legendgroup": "402",
         "marker": {
          "color": "#00cc96",
          "pattern": {
           "shape": ""
          }
         },
         "name": "402",
         "offsetgroup": "402",
         "orientation": "h",
         "showlegend": true,
         "text": [
          12,
          12,
          12,
          12,
          12,
          12
         ],
         "textposition": "auto",
         "type": "bar",
         "x": [
          43200000,
          43200000,
          43200000,
          43200000,
          43200000,
          43200000
         ],
         "xaxis": "x",
         "y": [
          "402",
          "402",
          "402",
          "402",
          "402",
          "402"
         ],
         "yaxis": "y"
        },
        {
         "alignmentgroup": "True",
         "base": [
          "2024-01-06T00:00:00",
          "2024-01-07T00:00:00",
          "2024-01-05T00:00:00",
          "2024-01-03T00:00:00",
          "2024-01-01T12:00:00",
          "2024-01-04T00:00:00"
         ],
         "hovertemplate": "Staff=%{y}<br>Shift Start=%{base}<br>Shift End=%{x}<br>shift_duration=%{text}<extra></extra>",
         "legendgroup": "401",
         "marker": {
          "color": "#ab63fa",
          "pattern": {
           "shape": ""
          }
         },
         "name": "401",
         "offsetgroup": "401",
         "orientation": "h",
         "showlegend": true,
         "text": [
          12,
          12,
          12,
          12,
          12,
          12
         ],
         "textposition": "auto",
         "type": "bar",
         "x": [
          43200000,
          43200000,
          43200000,
          43200000,
          43200000,
          43200000
         ],
         "xaxis": "x",
         "y": [
          "401",
          "401",
          "401",
          "401",
          "401",
          "401"
         ],
         "yaxis": "y"
        },
        {
         "alignmentgroup": "True",
         "base": [
          "2024-01-02T12:00:00",
          "2024-01-07T12:00:00",
          "2024-01-06T12:00:00",
          "2024-01-05T12:00:00",
          "2024-01-03T12:00:00",
          "2024-01-01T12:00:00"
         ],
         "hovertemplate": "Staff=%{y}<br>Shift Start=%{base}<br>Shift End=%{x}<br>shift_duration=%{text}<extra></extra>",
         "legendgroup": "301",
         "marker": {
          "color": "#FFA15A",
          "pattern": {
           "shape": ""
          }
         },
         "name": "301",
         "offsetgroup": "301",
         "orientation": "h",
         "showlegend": true,
         "text": [
          12,
          12,
          12,
          12,
          12,
          12
         ],
         "textposition": "auto",
         "type": "bar",
         "x": [
          43200000,
          43200000,
          43200000,
          43200000,
          43200000,
          43200000
         ],
         "xaxis": "x",
         "y": [
          "301",
          "301",
          "301",
          "301",
          "301",
          "301"
         ],
         "yaxis": "y"
        },
        {
         "alignmentgroup": "True",
         "base": [
          "2024-01-03T12:00:00",
          "2024-01-01T12:00:00",
          "2024-01-02T10:00:00",
          "2024-01-07T12:00:00",
          "2024-01-04T12:00:00",
          "2024-01-06T12:00:00"
         ],
         "hovertemplate": "Staff=%{y}<br>Shift Start=%{base}<br>Shift End=%{x}<br>shift_duration=%{text}<extra></extra>",
         "legendgroup": "201",
         "marker": {
          "color": "#19d3f3",
          "pattern": {
           "shape": ""
          }
         },
         "name": "201",
         "offsetgroup": "201",
         "orientation": "h",
         "showlegend": true,
         "text": [
          12,
          12,
          12,
          12,
          12,
          12
         ],
         "textposition": "auto",
         "type": "bar",
         "x": [
          43200000,
          43200000,
          43200000,
          43200000,
          43200000,
          43200000
         ],
         "xaxis": "x",
         "y": [
          "201",
          "201",
          "201",
          "201",
          "201",
          "201"
         ],
         "yaxis": "y"
        },
        {
         "alignmentgroup": "True",
         "base": [
          "2024-01-04T00:00:00",
          "2024-01-03T03:00:00",
          "2024-01-02T01:00:00",
          "2024-01-05T03:00:00",
          "2024-01-06T00:00:00",
          "2024-01-01T00:00:00"
         ],
         "hovertemplate": "Staff=%{y}<br>Shift Start=%{base}<br>Shift End=%{x}<br>shift_duration=%{text}<extra></extra>",
         "legendgroup": "101",
         "marker": {
          "color": "#FF6692",
          "pattern": {
           "shape": ""
          }
         },
         "name": "101",
         "offsetgroup": "101",
         "orientation": "h",
         "showlegend": true,
         "text": [
          9,
          9,
          9,
          9,
          9,
          9
         ],
         "textposition": "auto",
         "type": "bar",
         "x": [
          32400000,
          32400000,
          32400000,
          32400000,
          32400000,
          32400000
         ],
         "xaxis": "x",
         "y": [
          "101",
          "101",
          "101",
          "101",
          "101",
          "101"
         ],
         "yaxis": "y"
        },
        {
         "line": {
          "color": "gray",
          "width": 1
         },
         "mode": "lines",
         "name": "Demand",
         "type": "scatter",
         "x": [
          "2024-01-01T00:00:00",
          "2024-01-01T01:00:00",
          "2024-01-01T02:00:00",
          "2024-01-01T03:00:00",
          "2024-01-01T04:00:00",
          "2024-01-01T05:00:00",
          "2024-01-01T06:00:00",
          "2024-01-01T07:00:00",
          "2024-01-01T08:00:00",
          "2024-01-01T09:00:00",
          "2024-01-01T10:00:00",
          "2024-01-01T11:00:00",
          "2024-01-01T12:00:00",
          "2024-01-01T13:00:00",
          "2024-01-01T14:00:00",
          "2024-01-01T15:00:00",
          "2024-01-01T16:00:00",
          "2024-01-01T17:00:00",
          "2024-01-01T18:00:00",
          "2024-01-01T19:00:00",
          "2024-01-01T20:00:00",
          "2024-01-01T21:00:00",
          "2024-01-01T22:00:00",
          "2024-01-01T23:00:00",
          "2024-01-02T00:00:00",
          "2024-01-02T01:00:00",
          "2024-01-02T02:00:00",
          "2024-01-02T03:00:00",
          "2024-01-02T04:00:00",
          "2024-01-02T05:00:00",
          "2024-01-02T06:00:00",
          "2024-01-02T07:00:00",
          "2024-01-02T08:00:00",
          "2024-01-02T09:00:00",
          "2024-01-02T10:00:00",
          "2024-01-02T11:00:00",
          "2024-01-02T12:00:00",
          "2024-01-02T13:00:00",
          "2024-01-02T14:00:00",
          "2024-01-02T15:00:00",
          "2024-01-02T16:00:00",
          "2024-01-02T17:00:00",
          "2024-01-02T18:00:00",
          "2024-01-02T19:00:00",
          "2024-01-02T20:00:00",
          "2024-01-02T21:00:00",
          "2024-01-02T22:00:00",
          "2024-01-02T23:00:00",
          "2024-01-03T00:00:00",
          "2024-01-03T01:00:00",
          "2024-01-03T02:00:00",
          "2024-01-03T03:00:00",
          "2024-01-03T04:00:00",
          "2024-01-03T05:00:00",
          "2024-01-03T06:00:00",
          "2024-01-03T07:00:00",
          "2024-01-03T08:00:00",
          "2024-01-03T09:00:00",
          "2024-01-03T10:00:00",
          "2024-01-03T11:00:00",
          "2024-01-03T12:00:00",
          "2024-01-03T13:00:00",
          "2024-01-03T14:00:00",
          "2024-01-03T15:00:00",
          "2024-01-03T16:00:00",
          "2024-01-03T17:00:00",
          "2024-01-03T18:00:00",
          "2024-01-03T19:00:00",
          "2024-01-03T20:00:00",
          "2024-01-03T21:00:00",
          "2024-01-03T22:00:00",
          "2024-01-03T23:00:00",
          "2024-01-04T00:00:00",
          "2024-01-04T01:00:00",
          "2024-01-04T02:00:00",
          "2024-01-04T03:00:00",
          "2024-01-04T04:00:00",
          "2024-01-04T05:00:00",
          "2024-01-04T06:00:00",
          "2024-01-04T07:00:00",
          "2024-01-04T08:00:00",
          "2024-01-04T09:00:00",
          "2024-01-04T10:00:00",
          "2024-01-04T11:00:00",
          "2024-01-04T12:00:00",
          "2024-01-04T13:00:00",
          "2024-01-04T14:00:00",
          "2024-01-04T15:00:00",
          "2024-01-04T16:00:00",
          "2024-01-04T17:00:00",
          "2024-01-04T18:00:00",
          "2024-01-04T19:00:00",
          "2024-01-04T20:00:00",
          "2024-01-04T21:00:00",
          "2024-01-04T22:00:00",
          "2024-01-04T23:00:00",
          "2024-01-05T00:00:00",
          "2024-01-05T01:00:00",
          "2024-01-05T02:00:00",
          "2024-01-05T03:00:00",
          "2024-01-05T04:00:00",
          "2024-01-05T05:00:00",
          "2024-01-05T06:00:00",
          "2024-01-05T07:00:00",
          "2024-01-05T08:00:00",
          "2024-01-05T09:00:00",
          "2024-01-05T10:00:00",
          "2024-01-05T11:00:00",
          "2024-01-05T12:00:00",
          "2024-01-05T13:00:00",
          "2024-01-05T14:00:00",
          "2024-01-05T15:00:00",
          "2024-01-05T16:00:00",
          "2024-01-05T17:00:00",
          "2024-01-05T18:00:00",
          "2024-01-05T19:00:00",
          "2024-01-05T20:00:00",
          "2024-01-05T21:00:00",
          "2024-01-05T22:00:00",
          "2024-01-05T23:00:00",
          "2024-01-06T00:00:00",
          "2024-01-06T01:00:00",
          "2024-01-06T02:00:00",
          "2024-01-06T03:00:00",
          "2024-01-06T04:00:00",
          "2024-01-06T05:00:00",
          "2024-01-06T06:00:00",
          "2024-01-06T07:00:00",
          "2024-01-06T08:00:00",
          "2024-01-06T09:00:00",
          "2024-01-06T10:00:00",
          "2024-01-06T11:00:00",
          "2024-01-06T12:00:00",
          "2024-01-06T13:00:00",
          "2024-01-06T14:00:00",
          "2024-01-06T15:00:00",
          "2024-01-06T16:00:00",
          "2024-01-06T17:00:00",
          "2024-01-06T18:00:00",
          "2024-01-06T19:00:00",
          "2024-01-06T20:00:00",
          "2024-01-06T21:00:00",
          "2024-01-06T22:00:00",
          "2024-01-06T23:00:00",
          "2024-01-07T00:00:00",
          "2024-01-07T01:00:00",
          "2024-01-07T02:00:00",
          "2024-01-07T03:00:00",
          "2024-01-07T04:00:00",
          "2024-01-07T05:00:00",
          "2024-01-07T06:00:00",
          "2024-01-07T07:00:00",
          "2024-01-07T08:00:00",
          "2024-01-07T09:00:00",
          "2024-01-07T10:00:00",
          "2024-01-07T11:00:00",
          "2024-01-07T12:00:00",
          "2024-01-07T13:00:00",
          "2024-01-07T14:00:00",
          "2024-01-07T15:00:00",
          "2024-01-07T16:00:00",
          "2024-01-07T17:00:00",
          "2024-01-07T18:00:00",
          "2024-01-07T19:00:00",
          "2024-01-07T20:00:00",
          "2024-01-07T21:00:00",
          "2024-01-07T22:00:00",
          "2024-01-07T23:00:00"
         ],
         "y": [
          4,
          3,
          3,
          3,
          3,
          3,
          3,
          3,
          3,
          3,
          3,
          3,
          3,
          4,
          4,
          4,
          3,
          3,
          3,
          3,
          3,
          3,
          4,
          3,
          3,
          3,
          3,
          3,
          3,
          3,
          3,
          3,
          3,
          3,
          3,
          3,
          3,
          3,
          3,
          3,
          3,
          3,
          3,
          3,
          3,
          4,
          3,
          3,
          3,
          3,
          3,
          3,
          3,
          3,
          3,
          3,
          3,
          3,
          3,
          3,
          3,
          3,
          4,
          3,
          3,
          3,
          3,
          3,
          3,
          4,
          4,
          4,
          4,
          3,
          3,
          3,
          3,
          3,
          3,
          3,
          3,
          3,
          3,
          3,
          3,
          4,
          4,
          4,
          3,
          3,
          3,
          3,
          3,
          4,
          4,
          4,
          3,
          3,
          3,
          3,
          3,
          3,
          3,
          3,
          3,
          3,
          3,
          3,
          4,
          4,
          4,
          3,
          3,
          3,
          3,
          3,
          3,
          4,
          5,
          4,
          5,
          4,
          3,
          3,
          3,
          3,
          3,
          3,
          3,
          3,
          3,
          3,
          3,
          3,
          3,
          3,
          3,
          3,
          3,
          3,
          3,
          4,
          4,
          4,
          4,
          4,
          4,
          3,
          3,
          3,
          3,
          3,
          3,
          3,
          3,
          3,
          3,
          3,
          3,
          3,
          3,
          3,
          3,
          3,
          4,
          4,
          4,
          4
         ],
         "yaxis": "y2"
        }
       ],
       "layout": {
        "barmode": "overlay",
        "legend": {
         "title": {
          "text": "Staff"
         },
         "tracegroupgap": 0
        },
        "showlegend": false,
        "template": {
         "data": {
          "bar": [
           {
            "error_x": {
             "color": "#2a3f5f"
            },
            "error_y": {
             "color": "#2a3f5f"
            },
            "marker": {
             "line": {
              "color": "#E5ECF6",
              "width": 0.5
             },
             "pattern": {
              "fillmode": "overlay",
              "size": 10,
              "solidity": 0.2
             }
            },
            "type": "bar"
           }
          ],
          "barpolar": [
           {
            "marker": {
             "line": {
              "color": "#E5ECF6",
              "width": 0.5
             },
             "pattern": {
              "fillmode": "overlay",
              "size": 10,
              "solidity": 0.2
             }
            },
            "type": "barpolar"
           }
          ],
          "carpet": [
           {
            "aaxis": {
             "endlinecolor": "#2a3f5f",
             "gridcolor": "white",
             "linecolor": "white",
             "minorgridcolor": "white",
             "startlinecolor": "#2a3f5f"
            },
            "baxis": {
             "endlinecolor": "#2a3f5f",
             "gridcolor": "white",
             "linecolor": "white",
             "minorgridcolor": "white",
             "startlinecolor": "#2a3f5f"
            },
            "type": "carpet"
           }
          ],
          "choropleth": [
           {
            "colorbar": {
             "outlinewidth": 0,
             "ticks": ""
            },
            "type": "choropleth"
           }
          ],
          "contour": [
           {
            "colorbar": {
             "outlinewidth": 0,
             "ticks": ""
            },
            "colorscale": [
             [
              0,
              "#0d0887"
             ],
             [
              0.1111111111111111,
              "#46039f"
             ],
             [
              0.2222222222222222,
              "#7201a8"
             ],
             [
              0.3333333333333333,
              "#9c179e"
             ],
             [
              0.4444444444444444,
              "#bd3786"
             ],
             [
              0.5555555555555556,
              "#d8576b"
             ],
             [
              0.6666666666666666,
              "#ed7953"
             ],
             [
              0.7777777777777778,
              "#fb9f3a"
             ],
             [
              0.8888888888888888,
              "#fdca26"
             ],
             [
              1,
              "#f0f921"
             ]
            ],
            "type": "contour"
           }
          ],
          "contourcarpet": [
           {
            "colorbar": {
             "outlinewidth": 0,
             "ticks": ""
            },
            "type": "contourcarpet"
           }
          ],
          "heatmap": [
           {
            "colorbar": {
             "outlinewidth": 0,
             "ticks": ""
            },
            "colorscale": [
             [
              0,
              "#0d0887"
             ],
             [
              0.1111111111111111,
              "#46039f"
             ],
             [
              0.2222222222222222,
              "#7201a8"
             ],
             [
              0.3333333333333333,
              "#9c179e"
             ],
             [
              0.4444444444444444,
              "#bd3786"
             ],
             [
              0.5555555555555556,
              "#d8576b"
             ],
             [
              0.6666666666666666,
              "#ed7953"
             ],
             [
              0.7777777777777778,
              "#fb9f3a"
             ],
             [
              0.8888888888888888,
              "#fdca26"
             ],
             [
              1,
              "#f0f921"
             ]
            ],
            "type": "heatmap"
           }
          ],
          "heatmapgl": [
           {
            "colorbar": {
             "outlinewidth": 0,
             "ticks": ""
            },
            "colorscale": [
             [
              0,
              "#0d0887"
             ],
             [
              0.1111111111111111,
              "#46039f"
             ],
             [
              0.2222222222222222,
              "#7201a8"
             ],
             [
              0.3333333333333333,
              "#9c179e"
             ],
             [
              0.4444444444444444,
              "#bd3786"
             ],
             [
              0.5555555555555556,
              "#d8576b"
             ],
             [
              0.6666666666666666,
              "#ed7953"
             ],
             [
              0.7777777777777778,
              "#fb9f3a"
             ],
             [
              0.8888888888888888,
              "#fdca26"
             ],
             [
              1,
              "#f0f921"
             ]
            ],
            "type": "heatmapgl"
           }
          ],
          "histogram": [
           {
            "marker": {
             "pattern": {
              "fillmode": "overlay",
              "size": 10,
              "solidity": 0.2
             }
            },
            "type": "histogram"
           }
          ],
          "histogram2d": [
           {
            "colorbar": {
             "outlinewidth": 0,
             "ticks": ""
            },
            "colorscale": [
             [
              0,
              "#0d0887"
             ],
             [
              0.1111111111111111,
              "#46039f"
             ],
             [
              0.2222222222222222,
              "#7201a8"
             ],
             [
              0.3333333333333333,
              "#9c179e"
             ],
             [
              0.4444444444444444,
              "#bd3786"
             ],
             [
              0.5555555555555556,
              "#d8576b"
             ],
             [
              0.6666666666666666,
              "#ed7953"
             ],
             [
              0.7777777777777778,
              "#fb9f3a"
             ],
             [
              0.8888888888888888,
              "#fdca26"
             ],
             [
              1,
              "#f0f921"
             ]
            ],
            "type": "histogram2d"
           }
          ],
          "histogram2dcontour": [
           {
            "colorbar": {
             "outlinewidth": 0,
             "ticks": ""
            },
            "colorscale": [
             [
              0,
              "#0d0887"
             ],
             [
              0.1111111111111111,
              "#46039f"
             ],
             [
              0.2222222222222222,
              "#7201a8"
             ],
             [
              0.3333333333333333,
              "#9c179e"
             ],
             [
              0.4444444444444444,
              "#bd3786"
             ],
             [
              0.5555555555555556,
              "#d8576b"
             ],
             [
              0.6666666666666666,
              "#ed7953"
             ],
             [
              0.7777777777777778,
              "#fb9f3a"
             ],
             [
              0.8888888888888888,
              "#fdca26"
             ],
             [
              1,
              "#f0f921"
             ]
            ],
            "type": "histogram2dcontour"
           }
          ],
          "mesh3d": [
           {
            "colorbar": {
             "outlinewidth": 0,
             "ticks": ""
            },
            "type": "mesh3d"
           }
          ],
          "parcoords": [
           {
            "line": {
             "colorbar": {
              "outlinewidth": 0,
              "ticks": ""
             }
            },
            "type": "parcoords"
           }
          ],
          "pie": [
           {
            "automargin": true,
            "type": "pie"
           }
          ],
          "scatter": [
           {
            "fillpattern": {
             "fillmode": "overlay",
             "size": 10,
             "solidity": 0.2
            },
            "type": "scatter"
           }
          ],
          "scatter3d": [
           {
            "line": {
             "colorbar": {
              "outlinewidth": 0,
              "ticks": ""
             }
            },
            "marker": {
             "colorbar": {
              "outlinewidth": 0,
              "ticks": ""
             }
            },
            "type": "scatter3d"
           }
          ],
          "scattercarpet": [
           {
            "marker": {
             "colorbar": {
              "outlinewidth": 0,
              "ticks": ""
             }
            },
            "type": "scattercarpet"
           }
          ],
          "scattergeo": [
           {
            "marker": {
             "colorbar": {
              "outlinewidth": 0,
              "ticks": ""
             }
            },
            "type": "scattergeo"
           }
          ],
          "scattergl": [
           {
            "marker": {
             "colorbar": {
              "outlinewidth": 0,
              "ticks": ""
             }
            },
            "type": "scattergl"
           }
          ],
          "scattermapbox": [
           {
            "marker": {
             "colorbar": {
              "outlinewidth": 0,
              "ticks": ""
             }
            },
            "type": "scattermapbox"
           }
          ],
          "scatterpolar": [
           {
            "marker": {
             "colorbar": {
              "outlinewidth": 0,
              "ticks": ""
             }
            },
            "type": "scatterpolar"
           }
          ],
          "scatterpolargl": [
           {
            "marker": {
             "colorbar": {
              "outlinewidth": 0,
              "ticks": ""
             }
            },
            "type": "scatterpolargl"
           }
          ],
          "scatterternary": [
           {
            "marker": {
             "colorbar": {
              "outlinewidth": 0,
              "ticks": ""
             }
            },
            "type": "scatterternary"
           }
          ],
          "surface": [
           {
            "colorbar": {
             "outlinewidth": 0,
             "ticks": ""
            },
            "colorscale": [
             [
              0,
              "#0d0887"
             ],
             [
              0.1111111111111111,
              "#46039f"
             ],
             [
              0.2222222222222222,
              "#7201a8"
             ],
             [
              0.3333333333333333,
              "#9c179e"
             ],
             [
              0.4444444444444444,
              "#bd3786"
             ],
             [
              0.5555555555555556,
              "#d8576b"
             ],
             [
              0.6666666666666666,
              "#ed7953"
             ],
             [
              0.7777777777777778,
              "#fb9f3a"
             ],
             [
              0.8888888888888888,
              "#fdca26"
             ],
             [
              1,
              "#f0f921"
             ]
            ],
            "type": "surface"
           }
          ],
          "table": [
           {
            "cells": {
             "fill": {
              "color": "#EBF0F8"
             },
             "line": {
              "color": "white"
             }
            },
            "header": {
             "fill": {
              "color": "#C8D4E3"
             },
             "line": {
              "color": "white"
             }
            },
            "type": "table"
           }
          ]
         },
         "layout": {
          "annotationdefaults": {
           "arrowcolor": "#2a3f5f",
           "arrowhead": 0,
           "arrowwidth": 1
          },
          "autotypenumbers": "strict",
          "coloraxis": {
           "colorbar": {
            "outlinewidth": 0,
            "ticks": ""
           }
          },
          "colorscale": {
           "diverging": [
            [
             0,
             "#8e0152"
            ],
            [
             0.1,
             "#c51b7d"
            ],
            [
             0.2,
             "#de77ae"
            ],
            [
             0.3,
             "#f1b6da"
            ],
            [
             0.4,
             "#fde0ef"
            ],
            [
             0.5,
             "#f7f7f7"
            ],
            [
             0.6,
             "#e6f5d0"
            ],
            [
             0.7,
             "#b8e186"
            ],
            [
             0.8,
             "#7fbc41"
            ],
            [
             0.9,
             "#4d9221"
            ],
            [
             1,
             "#276419"
            ]
           ],
           "sequential": [
            [
             0,
             "#0d0887"
            ],
            [
             0.1111111111111111,
             "#46039f"
            ],
            [
             0.2222222222222222,
             "#7201a8"
            ],
            [
             0.3333333333333333,
             "#9c179e"
            ],
            [
             0.4444444444444444,
             "#bd3786"
            ],
            [
             0.5555555555555556,
             "#d8576b"
            ],
            [
             0.6666666666666666,
             "#ed7953"
            ],
            [
             0.7777777777777778,
             "#fb9f3a"
            ],
            [
             0.8888888888888888,
             "#fdca26"
            ],
            [
             1,
             "#f0f921"
            ]
           ],
           "sequentialminus": [
            [
             0,
             "#0d0887"
            ],
            [
             0.1111111111111111,
             "#46039f"
            ],
            [
             0.2222222222222222,
             "#7201a8"
            ],
            [
             0.3333333333333333,
             "#9c179e"
            ],
            [
             0.4444444444444444,
             "#bd3786"
            ],
            [
             0.5555555555555556,
             "#d8576b"
            ],
            [
             0.6666666666666666,
             "#ed7953"
            ],
            [
             0.7777777777777778,
             "#fb9f3a"
            ],
            [
             0.8888888888888888,
             "#fdca26"
            ],
            [
             1,
             "#f0f921"
            ]
           ]
          },
          "colorway": [
           "#636efa",
           "#EF553B",
           "#00cc96",
           "#ab63fa",
           "#FFA15A",
           "#19d3f3",
           "#FF6692",
           "#B6E880",
           "#FF97FF",
           "#FECB52"
          ],
          "font": {
           "color": "#2a3f5f"
          },
          "geo": {
           "bgcolor": "white",
           "lakecolor": "white",
           "landcolor": "#E5ECF6",
           "showlakes": true,
           "showland": true,
           "subunitcolor": "white"
          },
          "hoverlabel": {
           "align": "left"
          },
          "hovermode": "closest",
          "mapbox": {
           "style": "light"
          },
          "paper_bgcolor": "white",
          "plot_bgcolor": "#E5ECF6",
          "polar": {
           "angularaxis": {
            "gridcolor": "white",
            "linecolor": "white",
            "ticks": ""
           },
           "bgcolor": "#E5ECF6",
           "radialaxis": {
            "gridcolor": "white",
            "linecolor": "white",
            "ticks": ""
           }
          },
          "scene": {
           "xaxis": {
            "backgroundcolor": "#E5ECF6",
            "gridcolor": "white",
            "gridwidth": 2,
            "linecolor": "white",
            "showbackground": true,
            "ticks": "",
            "zerolinecolor": "white"
           },
           "yaxis": {
            "backgroundcolor": "#E5ECF6",
            "gridcolor": "white",
            "gridwidth": 2,
            "linecolor": "white",
            "showbackground": true,
            "ticks": "",
            "zerolinecolor": "white"
           },
           "zaxis": {
            "backgroundcolor": "#E5ECF6",
            "gridcolor": "white",
            "gridwidth": 2,
            "linecolor": "white",
            "showbackground": true,
            "ticks": "",
            "zerolinecolor": "white"
           }
          },
          "shapedefaults": {
           "line": {
            "color": "#2a3f5f"
           }
          },
          "ternary": {
           "aaxis": {
            "gridcolor": "white",
            "linecolor": "white",
            "ticks": ""
           },
           "baxis": {
            "gridcolor": "white",
            "linecolor": "white",
            "ticks": ""
           },
           "bgcolor": "#E5ECF6",
           "caxis": {
            "gridcolor": "white",
            "linecolor": "white",
            "ticks": ""
           }
          },
          "title": {
           "x": 0.05
          },
          "xaxis": {
           "automargin": true,
           "gridcolor": "white",
           "linecolor": "white",
           "ticks": "",
           "title": {
            "standoff": 15
           },
           "zerolinecolor": "white",
           "zerolinewidth": 2
          },
          "yaxis": {
           "automargin": true,
           "gridcolor": "white",
           "linecolor": "white",
           "ticks": "",
           "title": {
            "standoff": 15
           },
           "zerolinecolor": "white",
           "zerolinewidth": 2
          }
         }
        },
        "title": {
         "text": "Staff Schedule with Demand on Y-Axis WDC 0.9104, WOR 0.2222"
        },
        "xaxis": {
         "anchor": "y",
         "domain": [
          0,
          1
         ],
         "title": {
          "text": "Time"
         },
         "type": "date"
        },
        "yaxis": {
         "anchor": "x",
         "categoryarray": [
          "101",
          "201",
          "301",
          "401",
          "402",
          "404",
          "405"
         ],
         "categoryorder": "array",
         "domain": [
          0,
          1
         ],
         "title": {
          "text": "Staff"
         }
        },
        "yaxis2": {
         "overlaying": "y",
         "side": "right",
         "title": {
          "text": "Demand"
         }
        }
       }
      }
     },
     "metadata": {},
     "output_type": "display_data"
    }
   ],
   "source": [
    "# graph schedule with demand\n",
    "\n",
    "# read output\n",
    "df = pd.read_csv(\"shift.csv\")\n",
    "\n",
    "# Convert to datetime format\n",
    "df['start_date_time'] = pd.to_datetime(df['start_date_time'])\n",
    "df['end_date_time'] = pd.to_datetime(df['end_date_time'])\n",
    "df['staff_id'] = df['staff_id'].astype(str)\n",
    "\n",
    "# Calculate the duration of each shift in hours\n",
    "df['shift_duration'] = (df['end_date_time'] - df['start_date_time']).dt.total_seconds() / 3600\n",
    "\n",
    "fig = px.timeline(df.sort_values(by=['staff_id'], ascending=False), \n",
    "                  x_start='start_date_time', \n",
    "                  x_end='end_date_time', \n",
    "                  y='staff_id', \n",
    "                  title='Staff Work Shifts',\n",
    "                  labels={'staff_id': 'Staff', 'start_date_time': 'Shift Start', 'end_date_time': 'Shift End'},\n",
    "                  color='staff_id',\n",
    "                  text='shift_duration')\n",
    "\n",
    "fig = go.Figure(fig)\n",
    "\n",
    "# read demand\n",
    "demand_df = pd.read_csv(\"../data/demand.csv\")\n",
    "demand_df['date_time'] = pd.to_datetime(demand_df['date_time'])\n",
    "\n",
    "fig.add_trace(go.Scatter(\n",
    "    x=demand_df['date_time'],\n",
    "    y=demand_df['demand'],\n",
    "    mode=\"lines\",\n",
    "    name=\"Demand\",\n",
    "    line=dict(color=\"gray\", width=1),\n",
    "    yaxis=\"y2\"  # Secondary y-axis\n",
    "))\n",
    "\n",
    "# add metrics in title\n",
    "with open(\"metrics.json\") as f:\n",
    "    metrics = json.load(f)\n",
    "\n",
    "\n",
    "# Update layout to add and configure the secondary y-axis\n",
    "fig.update_layout(\n",
    "    yaxis=dict(\n",
    "        title=\"Staff\",\n",
    "        anchor=\"x\",\n",
    "        domain=[0.0, 1.0]  # Ensure it spans the full height\n",
    "    ),\n",
    "    yaxis2=dict(\n",
    "        title=\"Demand\",\n",
    "        overlaying=\"y\",  # Share the same x-axis\n",
    "        side=\"right\"     # Display the secondary y-axis on the right\n",
    "    ),\n",
    "    xaxis_title=\"Time\",\n",
    "    title=f\"Staff Schedule with Demand on Y-Axis WDC {metrics['WDC']}, WOR {metrics['WOR']}\",\n",
    "    showlegend=False\n",
    ")\n",
    "\n",
    "fig.show()"
   ]
  },
  {
   "cell_type": "code",
   "execution_count": 179,
   "metadata": {},
   "outputs": [
    {
     "data": {
      "application/vnd.plotly.v1+json": {
       "config": {
        "plotlyServerURL": "https://plot.ly"
       },
       "data": [
        {
         "name": "Staff 405",
         "type": "bar",
         "x": [
          "2024-01-01T00:00:00",
          "2024-01-01T01:00:00",
          "2024-01-01T02:00:00",
          "2024-01-01T03:00:00",
          "2024-01-01T04:00:00",
          "2024-01-01T05:00:00",
          "2024-01-01T06:00:00",
          "2024-01-01T07:00:00",
          "2024-01-01T08:00:00",
          "2024-01-01T09:00:00",
          "2024-01-01T10:00:00",
          "2024-01-01T11:00:00",
          "2024-01-01T12:00:00",
          "2024-01-01T13:00:00",
          "2024-01-01T14:00:00",
          "2024-01-01T15:00:00",
          "2024-01-01T16:00:00",
          "2024-01-01T17:00:00",
          "2024-01-01T18:00:00",
          "2024-01-01T19:00:00",
          "2024-01-01T20:00:00",
          "2024-01-01T21:00:00",
          "2024-01-01T22:00:00",
          "2024-01-01T23:00:00",
          "2024-01-02T00:00:00",
          "2024-01-02T01:00:00",
          "2024-01-02T02:00:00",
          "2024-01-02T03:00:00",
          "2024-01-02T04:00:00",
          "2024-01-02T05:00:00",
          "2024-01-02T06:00:00",
          "2024-01-02T07:00:00",
          "2024-01-02T08:00:00",
          "2024-01-02T09:00:00",
          "2024-01-02T10:00:00",
          "2024-01-02T11:00:00",
          "2024-01-02T12:00:00",
          "2024-01-02T13:00:00",
          "2024-01-02T14:00:00",
          "2024-01-02T15:00:00",
          "2024-01-02T16:00:00",
          "2024-01-02T17:00:00",
          "2024-01-02T18:00:00",
          "2024-01-02T19:00:00",
          "2024-01-02T20:00:00",
          "2024-01-02T21:00:00",
          "2024-01-02T22:00:00",
          "2024-01-02T23:00:00",
          "2024-01-03T00:00:00",
          "2024-01-03T01:00:00",
          "2024-01-03T02:00:00",
          "2024-01-03T03:00:00",
          "2024-01-03T04:00:00",
          "2024-01-03T05:00:00",
          "2024-01-03T06:00:00",
          "2024-01-03T07:00:00",
          "2024-01-03T08:00:00",
          "2024-01-03T09:00:00",
          "2024-01-03T10:00:00",
          "2024-01-03T11:00:00",
          "2024-01-03T12:00:00",
          "2024-01-03T13:00:00",
          "2024-01-03T14:00:00",
          "2024-01-03T15:00:00",
          "2024-01-03T16:00:00",
          "2024-01-03T17:00:00",
          "2024-01-03T18:00:00",
          "2024-01-03T19:00:00",
          "2024-01-03T20:00:00",
          "2024-01-03T21:00:00",
          "2024-01-03T22:00:00",
          "2024-01-03T23:00:00",
          "2024-01-04T00:00:00",
          "2024-01-04T01:00:00",
          "2024-01-04T02:00:00",
          "2024-01-04T03:00:00",
          "2024-01-04T04:00:00",
          "2024-01-04T05:00:00",
          "2024-01-04T06:00:00",
          "2024-01-04T07:00:00",
          "2024-01-04T08:00:00",
          "2024-01-04T09:00:00",
          "2024-01-04T10:00:00",
          "2024-01-04T11:00:00",
          "2024-01-04T12:00:00",
          "2024-01-04T13:00:00",
          "2024-01-04T14:00:00",
          "2024-01-04T15:00:00",
          "2024-01-04T16:00:00",
          "2024-01-04T17:00:00",
          "2024-01-04T18:00:00",
          "2024-01-04T19:00:00",
          "2024-01-04T20:00:00",
          "2024-01-04T21:00:00",
          "2024-01-04T22:00:00",
          "2024-01-04T23:00:00",
          "2024-01-05T00:00:00",
          "2024-01-05T01:00:00",
          "2024-01-05T02:00:00",
          "2024-01-05T03:00:00",
          "2024-01-05T04:00:00",
          "2024-01-05T05:00:00",
          "2024-01-05T06:00:00",
          "2024-01-05T07:00:00",
          "2024-01-05T08:00:00",
          "2024-01-05T09:00:00",
          "2024-01-05T10:00:00",
          "2024-01-05T11:00:00",
          "2024-01-05T12:00:00",
          "2024-01-05T13:00:00",
          "2024-01-05T14:00:00",
          "2024-01-05T15:00:00",
          "2024-01-05T16:00:00",
          "2024-01-05T17:00:00",
          "2024-01-05T18:00:00",
          "2024-01-05T19:00:00",
          "2024-01-05T20:00:00",
          "2024-01-05T21:00:00",
          "2024-01-05T22:00:00",
          "2024-01-05T23:00:00",
          "2024-01-06T00:00:00",
          "2024-01-06T01:00:00",
          "2024-01-06T02:00:00",
          "2024-01-06T03:00:00",
          "2024-01-06T04:00:00",
          "2024-01-06T05:00:00",
          "2024-01-06T06:00:00",
          "2024-01-06T07:00:00",
          "2024-01-06T08:00:00",
          "2024-01-06T09:00:00",
          "2024-01-06T10:00:00",
          "2024-01-06T11:00:00",
          "2024-01-06T12:00:00",
          "2024-01-06T13:00:00",
          "2024-01-06T14:00:00",
          "2024-01-06T15:00:00",
          "2024-01-06T16:00:00",
          "2024-01-06T17:00:00",
          "2024-01-06T18:00:00",
          "2024-01-06T19:00:00",
          "2024-01-06T20:00:00",
          "2024-01-06T21:00:00",
          "2024-01-06T22:00:00",
          "2024-01-06T23:00:00",
          "2024-01-07T00:00:00",
          "2024-01-07T01:00:00",
          "2024-01-07T02:00:00",
          "2024-01-07T03:00:00",
          "2024-01-07T04:00:00",
          "2024-01-07T05:00:00",
          "2024-01-07T06:00:00",
          "2024-01-07T07:00:00",
          "2024-01-07T08:00:00",
          "2024-01-07T09:00:00",
          "2024-01-07T10:00:00",
          "2024-01-07T11:00:00",
          "2024-01-07T12:00:00",
          "2024-01-07T13:00:00",
          "2024-01-07T14:00:00",
          "2024-01-07T15:00:00",
          "2024-01-07T16:00:00",
          "2024-01-07T17:00:00",
          "2024-01-07T18:00:00",
          "2024-01-07T19:00:00",
          "2024-01-07T20:00:00",
          "2024-01-07T21:00:00",
          "2024-01-07T22:00:00",
          "2024-01-07T23:00:00"
         ],
         "y": [
          1,
          1,
          1,
          1,
          1,
          1,
          1,
          1,
          1,
          1,
          1,
          1,
          0,
          0,
          0,
          0,
          0,
          0,
          0,
          0,
          0,
          0,
          0,
          0,
          0,
          0,
          0,
          0,
          0,
          0,
          0,
          0,
          0,
          0,
          0,
          0,
          1,
          1,
          1,
          1,
          1,
          1,
          1,
          1,
          1,
          1,
          1,
          1,
          0,
          0,
          0,
          0,
          0,
          0,
          0,
          0,
          0,
          0,
          0,
          0,
          0,
          0,
          0,
          0,
          0,
          0,
          0,
          0,
          0,
          0,
          0,
          0,
          1,
          1,
          1,
          1,
          1,
          1,
          1,
          1,
          1,
          1,
          1,
          1,
          0,
          0,
          0,
          0,
          0,
          0,
          0,
          0,
          0,
          0,
          0,
          0,
          1,
          1,
          1,
          1,
          1,
          1,
          1,
          1,
          1,
          1,
          1,
          1,
          0,
          0,
          0,
          0,
          0,
          0,
          0,
          0,
          0,
          0,
          0,
          0,
          1,
          1,
          1,
          1,
          1,
          1,
          1,
          1,
          1,
          1,
          1,
          1,
          0,
          0,
          0,
          0,
          0,
          0,
          0,
          0,
          0,
          0,
          0,
          0,
          1,
          1,
          1,
          1,
          1,
          1,
          1,
          1,
          1,
          1,
          1,
          1,
          0,
          0,
          0,
          0,
          0,
          0,
          0,
          0,
          0,
          0,
          0,
          0
         ]
        },
        {
         "name": "Staff 404",
         "type": "bar",
         "x": [
          "2024-01-01T00:00:00",
          "2024-01-01T01:00:00",
          "2024-01-01T02:00:00",
          "2024-01-01T03:00:00",
          "2024-01-01T04:00:00",
          "2024-01-01T05:00:00",
          "2024-01-01T06:00:00",
          "2024-01-01T07:00:00",
          "2024-01-01T08:00:00",
          "2024-01-01T09:00:00",
          "2024-01-01T10:00:00",
          "2024-01-01T11:00:00",
          "2024-01-01T12:00:00",
          "2024-01-01T13:00:00",
          "2024-01-01T14:00:00",
          "2024-01-01T15:00:00",
          "2024-01-01T16:00:00",
          "2024-01-01T17:00:00",
          "2024-01-01T18:00:00",
          "2024-01-01T19:00:00",
          "2024-01-01T20:00:00",
          "2024-01-01T21:00:00",
          "2024-01-01T22:00:00",
          "2024-01-01T23:00:00",
          "2024-01-02T00:00:00",
          "2024-01-02T01:00:00",
          "2024-01-02T02:00:00",
          "2024-01-02T03:00:00",
          "2024-01-02T04:00:00",
          "2024-01-02T05:00:00",
          "2024-01-02T06:00:00",
          "2024-01-02T07:00:00",
          "2024-01-02T08:00:00",
          "2024-01-02T09:00:00",
          "2024-01-02T10:00:00",
          "2024-01-02T11:00:00",
          "2024-01-02T12:00:00",
          "2024-01-02T13:00:00",
          "2024-01-02T14:00:00",
          "2024-01-02T15:00:00",
          "2024-01-02T16:00:00",
          "2024-01-02T17:00:00",
          "2024-01-02T18:00:00",
          "2024-01-02T19:00:00",
          "2024-01-02T20:00:00",
          "2024-01-02T21:00:00",
          "2024-01-02T22:00:00",
          "2024-01-02T23:00:00",
          "2024-01-03T00:00:00",
          "2024-01-03T01:00:00",
          "2024-01-03T02:00:00",
          "2024-01-03T03:00:00",
          "2024-01-03T04:00:00",
          "2024-01-03T05:00:00",
          "2024-01-03T06:00:00",
          "2024-01-03T07:00:00",
          "2024-01-03T08:00:00",
          "2024-01-03T09:00:00",
          "2024-01-03T10:00:00",
          "2024-01-03T11:00:00",
          "2024-01-03T12:00:00",
          "2024-01-03T13:00:00",
          "2024-01-03T14:00:00",
          "2024-01-03T15:00:00",
          "2024-01-03T16:00:00",
          "2024-01-03T17:00:00",
          "2024-01-03T18:00:00",
          "2024-01-03T19:00:00",
          "2024-01-03T20:00:00",
          "2024-01-03T21:00:00",
          "2024-01-03T22:00:00",
          "2024-01-03T23:00:00",
          "2024-01-04T00:00:00",
          "2024-01-04T01:00:00",
          "2024-01-04T02:00:00",
          "2024-01-04T03:00:00",
          "2024-01-04T04:00:00",
          "2024-01-04T05:00:00",
          "2024-01-04T06:00:00",
          "2024-01-04T07:00:00",
          "2024-01-04T08:00:00",
          "2024-01-04T09:00:00",
          "2024-01-04T10:00:00",
          "2024-01-04T11:00:00",
          "2024-01-04T12:00:00",
          "2024-01-04T13:00:00",
          "2024-01-04T14:00:00",
          "2024-01-04T15:00:00",
          "2024-01-04T16:00:00",
          "2024-01-04T17:00:00",
          "2024-01-04T18:00:00",
          "2024-01-04T19:00:00",
          "2024-01-04T20:00:00",
          "2024-01-04T21:00:00",
          "2024-01-04T22:00:00",
          "2024-01-04T23:00:00",
          "2024-01-05T00:00:00",
          "2024-01-05T01:00:00",
          "2024-01-05T02:00:00",
          "2024-01-05T03:00:00",
          "2024-01-05T04:00:00",
          "2024-01-05T05:00:00",
          "2024-01-05T06:00:00",
          "2024-01-05T07:00:00",
          "2024-01-05T08:00:00",
          "2024-01-05T09:00:00",
          "2024-01-05T10:00:00",
          "2024-01-05T11:00:00",
          "2024-01-05T12:00:00",
          "2024-01-05T13:00:00",
          "2024-01-05T14:00:00",
          "2024-01-05T15:00:00",
          "2024-01-05T16:00:00",
          "2024-01-05T17:00:00",
          "2024-01-05T18:00:00",
          "2024-01-05T19:00:00",
          "2024-01-05T20:00:00",
          "2024-01-05T21:00:00",
          "2024-01-05T22:00:00",
          "2024-01-05T23:00:00",
          "2024-01-06T00:00:00",
          "2024-01-06T01:00:00",
          "2024-01-06T02:00:00",
          "2024-01-06T03:00:00",
          "2024-01-06T04:00:00",
          "2024-01-06T05:00:00",
          "2024-01-06T06:00:00",
          "2024-01-06T07:00:00",
          "2024-01-06T08:00:00",
          "2024-01-06T09:00:00",
          "2024-01-06T10:00:00",
          "2024-01-06T11:00:00",
          "2024-01-06T12:00:00",
          "2024-01-06T13:00:00",
          "2024-01-06T14:00:00",
          "2024-01-06T15:00:00",
          "2024-01-06T16:00:00",
          "2024-01-06T17:00:00",
          "2024-01-06T18:00:00",
          "2024-01-06T19:00:00",
          "2024-01-06T20:00:00",
          "2024-01-06T21:00:00",
          "2024-01-06T22:00:00",
          "2024-01-06T23:00:00",
          "2024-01-07T00:00:00",
          "2024-01-07T01:00:00",
          "2024-01-07T02:00:00",
          "2024-01-07T03:00:00",
          "2024-01-07T04:00:00",
          "2024-01-07T05:00:00",
          "2024-01-07T06:00:00",
          "2024-01-07T07:00:00",
          "2024-01-07T08:00:00",
          "2024-01-07T09:00:00",
          "2024-01-07T10:00:00",
          "2024-01-07T11:00:00",
          "2024-01-07T12:00:00",
          "2024-01-07T13:00:00",
          "2024-01-07T14:00:00",
          "2024-01-07T15:00:00",
          "2024-01-07T16:00:00",
          "2024-01-07T17:00:00",
          "2024-01-07T18:00:00",
          "2024-01-07T19:00:00",
          "2024-01-07T20:00:00",
          "2024-01-07T21:00:00",
          "2024-01-07T22:00:00",
          "2024-01-07T23:00:00"
         ],
         "y": [
          1,
          1,
          1,
          1,
          1,
          1,
          1,
          1,
          1,
          1,
          1,
          1,
          0,
          0,
          0,
          0,
          0,
          0,
          0,
          0,
          0,
          0,
          0,
          0,
          1,
          1,
          1,
          1,
          1,
          1,
          1,
          1,
          1,
          1,
          1,
          1,
          0,
          0,
          0,
          0,
          0,
          0,
          0,
          0,
          0,
          0,
          0,
          0,
          1,
          1,
          1,
          1,
          1,
          1,
          1,
          1,
          1,
          1,
          1,
          1,
          0,
          0,
          0,
          0,
          0,
          0,
          0,
          0,
          0,
          0,
          0,
          0,
          0,
          0,
          0,
          0,
          0,
          0,
          0,
          0,
          0,
          0,
          0,
          0,
          1,
          1,
          1,
          1,
          1,
          1,
          1,
          1,
          1,
          1,
          1,
          1,
          0,
          0,
          0,
          0,
          0,
          0,
          0,
          0,
          0,
          0,
          0,
          0,
          1,
          1,
          1,
          1,
          1,
          1,
          1,
          1,
          1,
          1,
          1,
          1,
          0,
          0,
          0,
          0,
          0,
          0,
          0,
          0,
          0,
          0,
          0,
          0,
          0,
          0,
          0,
          0,
          0,
          0,
          0,
          0,
          0,
          0,
          0,
          0,
          1,
          1,
          1,
          1,
          1,
          1,
          1,
          1,
          1,
          1,
          1,
          1,
          0,
          0,
          0,
          0,
          0,
          0,
          0,
          0,
          0,
          0,
          0,
          0
         ]
        },
        {
         "name": "Staff 402",
         "type": "bar",
         "x": [
          "2024-01-01T00:00:00",
          "2024-01-01T01:00:00",
          "2024-01-01T02:00:00",
          "2024-01-01T03:00:00",
          "2024-01-01T04:00:00",
          "2024-01-01T05:00:00",
          "2024-01-01T06:00:00",
          "2024-01-01T07:00:00",
          "2024-01-01T08:00:00",
          "2024-01-01T09:00:00",
          "2024-01-01T10:00:00",
          "2024-01-01T11:00:00",
          "2024-01-01T12:00:00",
          "2024-01-01T13:00:00",
          "2024-01-01T14:00:00",
          "2024-01-01T15:00:00",
          "2024-01-01T16:00:00",
          "2024-01-01T17:00:00",
          "2024-01-01T18:00:00",
          "2024-01-01T19:00:00",
          "2024-01-01T20:00:00",
          "2024-01-01T21:00:00",
          "2024-01-01T22:00:00",
          "2024-01-01T23:00:00",
          "2024-01-02T00:00:00",
          "2024-01-02T01:00:00",
          "2024-01-02T02:00:00",
          "2024-01-02T03:00:00",
          "2024-01-02T04:00:00",
          "2024-01-02T05:00:00",
          "2024-01-02T06:00:00",
          "2024-01-02T07:00:00",
          "2024-01-02T08:00:00",
          "2024-01-02T09:00:00",
          "2024-01-02T10:00:00",
          "2024-01-02T11:00:00",
          "2024-01-02T12:00:00",
          "2024-01-02T13:00:00",
          "2024-01-02T14:00:00",
          "2024-01-02T15:00:00",
          "2024-01-02T16:00:00",
          "2024-01-02T17:00:00",
          "2024-01-02T18:00:00",
          "2024-01-02T19:00:00",
          "2024-01-02T20:00:00",
          "2024-01-02T21:00:00",
          "2024-01-02T22:00:00",
          "2024-01-02T23:00:00",
          "2024-01-03T00:00:00",
          "2024-01-03T01:00:00",
          "2024-01-03T02:00:00",
          "2024-01-03T03:00:00",
          "2024-01-03T04:00:00",
          "2024-01-03T05:00:00",
          "2024-01-03T06:00:00",
          "2024-01-03T07:00:00",
          "2024-01-03T08:00:00",
          "2024-01-03T09:00:00",
          "2024-01-03T10:00:00",
          "2024-01-03T11:00:00",
          "2024-01-03T12:00:00",
          "2024-01-03T13:00:00",
          "2024-01-03T14:00:00",
          "2024-01-03T15:00:00",
          "2024-01-03T16:00:00",
          "2024-01-03T17:00:00",
          "2024-01-03T18:00:00",
          "2024-01-03T19:00:00",
          "2024-01-03T20:00:00",
          "2024-01-03T21:00:00",
          "2024-01-03T22:00:00",
          "2024-01-03T23:00:00",
          "2024-01-04T00:00:00",
          "2024-01-04T01:00:00",
          "2024-01-04T02:00:00",
          "2024-01-04T03:00:00",
          "2024-01-04T04:00:00",
          "2024-01-04T05:00:00",
          "2024-01-04T06:00:00",
          "2024-01-04T07:00:00",
          "2024-01-04T08:00:00",
          "2024-01-04T09:00:00",
          "2024-01-04T10:00:00",
          "2024-01-04T11:00:00",
          "2024-01-04T12:00:00",
          "2024-01-04T13:00:00",
          "2024-01-04T14:00:00",
          "2024-01-04T15:00:00",
          "2024-01-04T16:00:00",
          "2024-01-04T17:00:00",
          "2024-01-04T18:00:00",
          "2024-01-04T19:00:00",
          "2024-01-04T20:00:00",
          "2024-01-04T21:00:00",
          "2024-01-04T22:00:00",
          "2024-01-04T23:00:00",
          "2024-01-05T00:00:00",
          "2024-01-05T01:00:00",
          "2024-01-05T02:00:00",
          "2024-01-05T03:00:00",
          "2024-01-05T04:00:00",
          "2024-01-05T05:00:00",
          "2024-01-05T06:00:00",
          "2024-01-05T07:00:00",
          "2024-01-05T08:00:00",
          "2024-01-05T09:00:00",
          "2024-01-05T10:00:00",
          "2024-01-05T11:00:00",
          "2024-01-05T12:00:00",
          "2024-01-05T13:00:00",
          "2024-01-05T14:00:00",
          "2024-01-05T15:00:00",
          "2024-01-05T16:00:00",
          "2024-01-05T17:00:00",
          "2024-01-05T18:00:00",
          "2024-01-05T19:00:00",
          "2024-01-05T20:00:00",
          "2024-01-05T21:00:00",
          "2024-01-05T22:00:00",
          "2024-01-05T23:00:00",
          "2024-01-06T00:00:00",
          "2024-01-06T01:00:00",
          "2024-01-06T02:00:00",
          "2024-01-06T03:00:00",
          "2024-01-06T04:00:00",
          "2024-01-06T05:00:00",
          "2024-01-06T06:00:00",
          "2024-01-06T07:00:00",
          "2024-01-06T08:00:00",
          "2024-01-06T09:00:00",
          "2024-01-06T10:00:00",
          "2024-01-06T11:00:00",
          "2024-01-06T12:00:00",
          "2024-01-06T13:00:00",
          "2024-01-06T14:00:00",
          "2024-01-06T15:00:00",
          "2024-01-06T16:00:00",
          "2024-01-06T17:00:00",
          "2024-01-06T18:00:00",
          "2024-01-06T19:00:00",
          "2024-01-06T20:00:00",
          "2024-01-06T21:00:00",
          "2024-01-06T22:00:00",
          "2024-01-06T23:00:00",
          "2024-01-07T00:00:00",
          "2024-01-07T01:00:00",
          "2024-01-07T02:00:00",
          "2024-01-07T03:00:00",
          "2024-01-07T04:00:00",
          "2024-01-07T05:00:00",
          "2024-01-07T06:00:00",
          "2024-01-07T07:00:00",
          "2024-01-07T08:00:00",
          "2024-01-07T09:00:00",
          "2024-01-07T10:00:00",
          "2024-01-07T11:00:00",
          "2024-01-07T12:00:00",
          "2024-01-07T13:00:00",
          "2024-01-07T14:00:00",
          "2024-01-07T15:00:00",
          "2024-01-07T16:00:00",
          "2024-01-07T17:00:00",
          "2024-01-07T18:00:00",
          "2024-01-07T19:00:00",
          "2024-01-07T20:00:00",
          "2024-01-07T21:00:00",
          "2024-01-07T22:00:00",
          "2024-01-07T23:00:00"
         ],
         "y": [
          0,
          0,
          0,
          0,
          0,
          0,
          0,
          0,
          0,
          0,
          0,
          0,
          0,
          0,
          0,
          0,
          0,
          0,
          0,
          0,
          0,
          0,
          0,
          0,
          1,
          1,
          1,
          1,
          1,
          1,
          1,
          1,
          1,
          1,
          1,
          1,
          0,
          0,
          0,
          0,
          0,
          0,
          0,
          0,
          0,
          0,
          0,
          0,
          0,
          0,
          0,
          0,
          0,
          0,
          0,
          0,
          0,
          0,
          0,
          0,
          1,
          1,
          1,
          1,
          1,
          1,
          1,
          1,
          1,
          1,
          1,
          1,
          0,
          0,
          0,
          0,
          0,
          0,
          0,
          0,
          0,
          0,
          0,
          0,
          1,
          1,
          1,
          1,
          1,
          1,
          1,
          1,
          1,
          1,
          1,
          1,
          0,
          0,
          0,
          0,
          0,
          0,
          0,
          0,
          0,
          0,
          0,
          0,
          1,
          1,
          1,
          1,
          1,
          1,
          1,
          1,
          1,
          1,
          1,
          1,
          0,
          0,
          0,
          0,
          0,
          0,
          0,
          0,
          0,
          0,
          0,
          0,
          1,
          1,
          1,
          1,
          1,
          1,
          1,
          1,
          1,
          1,
          1,
          1,
          0,
          0,
          0,
          0,
          0,
          0,
          0,
          0,
          0,
          0,
          0,
          0,
          1,
          1,
          1,
          1,
          1,
          1,
          1,
          1,
          1,
          1,
          1,
          1
         ]
        },
        {
         "name": "Staff 401",
         "type": "bar",
         "x": [
          "2024-01-01T00:00:00",
          "2024-01-01T01:00:00",
          "2024-01-01T02:00:00",
          "2024-01-01T03:00:00",
          "2024-01-01T04:00:00",
          "2024-01-01T05:00:00",
          "2024-01-01T06:00:00",
          "2024-01-01T07:00:00",
          "2024-01-01T08:00:00",
          "2024-01-01T09:00:00",
          "2024-01-01T10:00:00",
          "2024-01-01T11:00:00",
          "2024-01-01T12:00:00",
          "2024-01-01T13:00:00",
          "2024-01-01T14:00:00",
          "2024-01-01T15:00:00",
          "2024-01-01T16:00:00",
          "2024-01-01T17:00:00",
          "2024-01-01T18:00:00",
          "2024-01-01T19:00:00",
          "2024-01-01T20:00:00",
          "2024-01-01T21:00:00",
          "2024-01-01T22:00:00",
          "2024-01-01T23:00:00",
          "2024-01-02T00:00:00",
          "2024-01-02T01:00:00",
          "2024-01-02T02:00:00",
          "2024-01-02T03:00:00",
          "2024-01-02T04:00:00",
          "2024-01-02T05:00:00",
          "2024-01-02T06:00:00",
          "2024-01-02T07:00:00",
          "2024-01-02T08:00:00",
          "2024-01-02T09:00:00",
          "2024-01-02T10:00:00",
          "2024-01-02T11:00:00",
          "2024-01-02T12:00:00",
          "2024-01-02T13:00:00",
          "2024-01-02T14:00:00",
          "2024-01-02T15:00:00",
          "2024-01-02T16:00:00",
          "2024-01-02T17:00:00",
          "2024-01-02T18:00:00",
          "2024-01-02T19:00:00",
          "2024-01-02T20:00:00",
          "2024-01-02T21:00:00",
          "2024-01-02T22:00:00",
          "2024-01-02T23:00:00",
          "2024-01-03T00:00:00",
          "2024-01-03T01:00:00",
          "2024-01-03T02:00:00",
          "2024-01-03T03:00:00",
          "2024-01-03T04:00:00",
          "2024-01-03T05:00:00",
          "2024-01-03T06:00:00",
          "2024-01-03T07:00:00",
          "2024-01-03T08:00:00",
          "2024-01-03T09:00:00",
          "2024-01-03T10:00:00",
          "2024-01-03T11:00:00",
          "2024-01-03T12:00:00",
          "2024-01-03T13:00:00",
          "2024-01-03T14:00:00",
          "2024-01-03T15:00:00",
          "2024-01-03T16:00:00",
          "2024-01-03T17:00:00",
          "2024-01-03T18:00:00",
          "2024-01-03T19:00:00",
          "2024-01-03T20:00:00",
          "2024-01-03T21:00:00",
          "2024-01-03T22:00:00",
          "2024-01-03T23:00:00",
          "2024-01-04T00:00:00",
          "2024-01-04T01:00:00",
          "2024-01-04T02:00:00",
          "2024-01-04T03:00:00",
          "2024-01-04T04:00:00",
          "2024-01-04T05:00:00",
          "2024-01-04T06:00:00",
          "2024-01-04T07:00:00",
          "2024-01-04T08:00:00",
          "2024-01-04T09:00:00",
          "2024-01-04T10:00:00",
          "2024-01-04T11:00:00",
          "2024-01-04T12:00:00",
          "2024-01-04T13:00:00",
          "2024-01-04T14:00:00",
          "2024-01-04T15:00:00",
          "2024-01-04T16:00:00",
          "2024-01-04T17:00:00",
          "2024-01-04T18:00:00",
          "2024-01-04T19:00:00",
          "2024-01-04T20:00:00",
          "2024-01-04T21:00:00",
          "2024-01-04T22:00:00",
          "2024-01-04T23:00:00",
          "2024-01-05T00:00:00",
          "2024-01-05T01:00:00",
          "2024-01-05T02:00:00",
          "2024-01-05T03:00:00",
          "2024-01-05T04:00:00",
          "2024-01-05T05:00:00",
          "2024-01-05T06:00:00",
          "2024-01-05T07:00:00",
          "2024-01-05T08:00:00",
          "2024-01-05T09:00:00",
          "2024-01-05T10:00:00",
          "2024-01-05T11:00:00",
          "2024-01-05T12:00:00",
          "2024-01-05T13:00:00",
          "2024-01-05T14:00:00",
          "2024-01-05T15:00:00",
          "2024-01-05T16:00:00",
          "2024-01-05T17:00:00",
          "2024-01-05T18:00:00",
          "2024-01-05T19:00:00",
          "2024-01-05T20:00:00",
          "2024-01-05T21:00:00",
          "2024-01-05T22:00:00",
          "2024-01-05T23:00:00",
          "2024-01-06T00:00:00",
          "2024-01-06T01:00:00",
          "2024-01-06T02:00:00",
          "2024-01-06T03:00:00",
          "2024-01-06T04:00:00",
          "2024-01-06T05:00:00",
          "2024-01-06T06:00:00",
          "2024-01-06T07:00:00",
          "2024-01-06T08:00:00",
          "2024-01-06T09:00:00",
          "2024-01-06T10:00:00",
          "2024-01-06T11:00:00",
          "2024-01-06T12:00:00",
          "2024-01-06T13:00:00",
          "2024-01-06T14:00:00",
          "2024-01-06T15:00:00",
          "2024-01-06T16:00:00",
          "2024-01-06T17:00:00",
          "2024-01-06T18:00:00",
          "2024-01-06T19:00:00",
          "2024-01-06T20:00:00",
          "2024-01-06T21:00:00",
          "2024-01-06T22:00:00",
          "2024-01-06T23:00:00",
          "2024-01-07T00:00:00",
          "2024-01-07T01:00:00",
          "2024-01-07T02:00:00",
          "2024-01-07T03:00:00",
          "2024-01-07T04:00:00",
          "2024-01-07T05:00:00",
          "2024-01-07T06:00:00",
          "2024-01-07T07:00:00",
          "2024-01-07T08:00:00",
          "2024-01-07T09:00:00",
          "2024-01-07T10:00:00",
          "2024-01-07T11:00:00",
          "2024-01-07T12:00:00",
          "2024-01-07T13:00:00",
          "2024-01-07T14:00:00",
          "2024-01-07T15:00:00",
          "2024-01-07T16:00:00",
          "2024-01-07T17:00:00",
          "2024-01-07T18:00:00",
          "2024-01-07T19:00:00",
          "2024-01-07T20:00:00",
          "2024-01-07T21:00:00",
          "2024-01-07T22:00:00",
          "2024-01-07T23:00:00"
         ],
         "y": [
          0,
          0,
          0,
          0,
          0,
          0,
          0,
          0,
          0,
          0,
          0,
          0,
          1,
          1,
          1,
          1,
          1,
          1,
          1,
          1,
          1,
          1,
          1,
          1,
          0,
          0,
          0,
          0,
          0,
          0,
          0,
          0,
          0,
          0,
          0,
          0,
          0,
          0,
          0,
          0,
          0,
          0,
          0,
          0,
          0,
          0,
          0,
          0,
          1,
          1,
          1,
          1,
          1,
          1,
          1,
          1,
          1,
          1,
          1,
          1,
          0,
          0,
          0,
          0,
          0,
          0,
          0,
          0,
          0,
          0,
          0,
          0,
          1,
          1,
          1,
          1,
          1,
          1,
          1,
          1,
          1,
          1,
          1,
          1,
          0,
          0,
          0,
          0,
          0,
          0,
          0,
          0,
          0,
          0,
          0,
          0,
          1,
          1,
          1,
          1,
          1,
          1,
          1,
          1,
          1,
          1,
          1,
          1,
          0,
          0,
          0,
          0,
          0,
          0,
          0,
          0,
          0,
          0,
          0,
          0,
          1,
          1,
          1,
          1,
          1,
          1,
          1,
          1,
          1,
          1,
          1,
          1,
          0,
          0,
          0,
          0,
          0,
          0,
          0,
          0,
          0,
          0,
          0,
          0,
          1,
          1,
          1,
          1,
          1,
          1,
          1,
          1,
          1,
          1,
          1,
          1,
          0,
          0,
          0,
          0,
          0,
          0,
          0,
          0,
          0,
          0,
          0,
          0
         ]
        },
        {
         "name": "Staff 301",
         "type": "bar",
         "x": [
          "2024-01-01T00:00:00",
          "2024-01-01T01:00:00",
          "2024-01-01T02:00:00",
          "2024-01-01T03:00:00",
          "2024-01-01T04:00:00",
          "2024-01-01T05:00:00",
          "2024-01-01T06:00:00",
          "2024-01-01T07:00:00",
          "2024-01-01T08:00:00",
          "2024-01-01T09:00:00",
          "2024-01-01T10:00:00",
          "2024-01-01T11:00:00",
          "2024-01-01T12:00:00",
          "2024-01-01T13:00:00",
          "2024-01-01T14:00:00",
          "2024-01-01T15:00:00",
          "2024-01-01T16:00:00",
          "2024-01-01T17:00:00",
          "2024-01-01T18:00:00",
          "2024-01-01T19:00:00",
          "2024-01-01T20:00:00",
          "2024-01-01T21:00:00",
          "2024-01-01T22:00:00",
          "2024-01-01T23:00:00",
          "2024-01-02T00:00:00",
          "2024-01-02T01:00:00",
          "2024-01-02T02:00:00",
          "2024-01-02T03:00:00",
          "2024-01-02T04:00:00",
          "2024-01-02T05:00:00",
          "2024-01-02T06:00:00",
          "2024-01-02T07:00:00",
          "2024-01-02T08:00:00",
          "2024-01-02T09:00:00",
          "2024-01-02T10:00:00",
          "2024-01-02T11:00:00",
          "2024-01-02T12:00:00",
          "2024-01-02T13:00:00",
          "2024-01-02T14:00:00",
          "2024-01-02T15:00:00",
          "2024-01-02T16:00:00",
          "2024-01-02T17:00:00",
          "2024-01-02T18:00:00",
          "2024-01-02T19:00:00",
          "2024-01-02T20:00:00",
          "2024-01-02T21:00:00",
          "2024-01-02T22:00:00",
          "2024-01-02T23:00:00",
          "2024-01-03T00:00:00",
          "2024-01-03T01:00:00",
          "2024-01-03T02:00:00",
          "2024-01-03T03:00:00",
          "2024-01-03T04:00:00",
          "2024-01-03T05:00:00",
          "2024-01-03T06:00:00",
          "2024-01-03T07:00:00",
          "2024-01-03T08:00:00",
          "2024-01-03T09:00:00",
          "2024-01-03T10:00:00",
          "2024-01-03T11:00:00",
          "2024-01-03T12:00:00",
          "2024-01-03T13:00:00",
          "2024-01-03T14:00:00",
          "2024-01-03T15:00:00",
          "2024-01-03T16:00:00",
          "2024-01-03T17:00:00",
          "2024-01-03T18:00:00",
          "2024-01-03T19:00:00",
          "2024-01-03T20:00:00",
          "2024-01-03T21:00:00",
          "2024-01-03T22:00:00",
          "2024-01-03T23:00:00",
          "2024-01-04T00:00:00",
          "2024-01-04T01:00:00",
          "2024-01-04T02:00:00",
          "2024-01-04T03:00:00",
          "2024-01-04T04:00:00",
          "2024-01-04T05:00:00",
          "2024-01-04T06:00:00",
          "2024-01-04T07:00:00",
          "2024-01-04T08:00:00",
          "2024-01-04T09:00:00",
          "2024-01-04T10:00:00",
          "2024-01-04T11:00:00",
          "2024-01-04T12:00:00",
          "2024-01-04T13:00:00",
          "2024-01-04T14:00:00",
          "2024-01-04T15:00:00",
          "2024-01-04T16:00:00",
          "2024-01-04T17:00:00",
          "2024-01-04T18:00:00",
          "2024-01-04T19:00:00",
          "2024-01-04T20:00:00",
          "2024-01-04T21:00:00",
          "2024-01-04T22:00:00",
          "2024-01-04T23:00:00",
          "2024-01-05T00:00:00",
          "2024-01-05T01:00:00",
          "2024-01-05T02:00:00",
          "2024-01-05T03:00:00",
          "2024-01-05T04:00:00",
          "2024-01-05T05:00:00",
          "2024-01-05T06:00:00",
          "2024-01-05T07:00:00",
          "2024-01-05T08:00:00",
          "2024-01-05T09:00:00",
          "2024-01-05T10:00:00",
          "2024-01-05T11:00:00",
          "2024-01-05T12:00:00",
          "2024-01-05T13:00:00",
          "2024-01-05T14:00:00",
          "2024-01-05T15:00:00",
          "2024-01-05T16:00:00",
          "2024-01-05T17:00:00",
          "2024-01-05T18:00:00",
          "2024-01-05T19:00:00",
          "2024-01-05T20:00:00",
          "2024-01-05T21:00:00",
          "2024-01-05T22:00:00",
          "2024-01-05T23:00:00",
          "2024-01-06T00:00:00",
          "2024-01-06T01:00:00",
          "2024-01-06T02:00:00",
          "2024-01-06T03:00:00",
          "2024-01-06T04:00:00",
          "2024-01-06T05:00:00",
          "2024-01-06T06:00:00",
          "2024-01-06T07:00:00",
          "2024-01-06T08:00:00",
          "2024-01-06T09:00:00",
          "2024-01-06T10:00:00",
          "2024-01-06T11:00:00",
          "2024-01-06T12:00:00",
          "2024-01-06T13:00:00",
          "2024-01-06T14:00:00",
          "2024-01-06T15:00:00",
          "2024-01-06T16:00:00",
          "2024-01-06T17:00:00",
          "2024-01-06T18:00:00",
          "2024-01-06T19:00:00",
          "2024-01-06T20:00:00",
          "2024-01-06T21:00:00",
          "2024-01-06T22:00:00",
          "2024-01-06T23:00:00",
          "2024-01-07T00:00:00",
          "2024-01-07T01:00:00",
          "2024-01-07T02:00:00",
          "2024-01-07T03:00:00",
          "2024-01-07T04:00:00",
          "2024-01-07T05:00:00",
          "2024-01-07T06:00:00",
          "2024-01-07T07:00:00",
          "2024-01-07T08:00:00",
          "2024-01-07T09:00:00",
          "2024-01-07T10:00:00",
          "2024-01-07T11:00:00",
          "2024-01-07T12:00:00",
          "2024-01-07T13:00:00",
          "2024-01-07T14:00:00",
          "2024-01-07T15:00:00",
          "2024-01-07T16:00:00",
          "2024-01-07T17:00:00",
          "2024-01-07T18:00:00",
          "2024-01-07T19:00:00",
          "2024-01-07T20:00:00",
          "2024-01-07T21:00:00",
          "2024-01-07T22:00:00",
          "2024-01-07T23:00:00"
         ],
         "y": [
          0,
          0,
          0,
          0,
          0,
          0,
          0,
          0,
          0,
          0,
          0,
          0,
          1,
          1,
          1,
          1,
          1,
          1,
          1,
          1,
          1,
          1,
          1,
          1,
          0,
          0,
          0,
          0,
          0,
          0,
          0,
          0,
          0,
          0,
          0,
          0,
          1,
          1,
          1,
          1,
          1,
          1,
          1,
          1,
          1,
          1,
          1,
          1,
          0,
          0,
          0,
          0,
          0,
          0,
          0,
          0,
          0,
          0,
          0,
          0,
          1,
          1,
          1,
          1,
          1,
          1,
          1,
          1,
          1,
          1,
          1,
          1,
          0,
          0,
          0,
          0,
          0,
          0,
          0,
          0,
          0,
          0,
          0,
          0,
          0,
          0,
          0,
          0,
          0,
          0,
          0,
          0,
          0,
          0,
          0,
          0,
          0,
          0,
          0,
          0,
          0,
          0,
          0,
          0,
          0,
          0,
          0,
          0,
          1,
          1,
          1,
          1,
          1,
          1,
          1,
          1,
          1,
          1,
          1,
          1,
          0,
          0,
          0,
          0,
          0,
          0,
          0,
          0,
          0,
          0,
          0,
          0,
          1,
          1,
          1,
          1,
          1,
          1,
          1,
          1,
          1,
          1,
          1,
          1,
          0,
          0,
          0,
          0,
          0,
          0,
          0,
          0,
          0,
          0,
          0,
          0,
          1,
          1,
          1,
          1,
          1,
          1,
          1,
          1,
          1,
          1,
          1,
          1
         ]
        },
        {
         "name": "Staff 201",
         "type": "bar",
         "x": [
          "2024-01-01T00:00:00",
          "2024-01-01T01:00:00",
          "2024-01-01T02:00:00",
          "2024-01-01T03:00:00",
          "2024-01-01T04:00:00",
          "2024-01-01T05:00:00",
          "2024-01-01T06:00:00",
          "2024-01-01T07:00:00",
          "2024-01-01T08:00:00",
          "2024-01-01T09:00:00",
          "2024-01-01T10:00:00",
          "2024-01-01T11:00:00",
          "2024-01-01T12:00:00",
          "2024-01-01T13:00:00",
          "2024-01-01T14:00:00",
          "2024-01-01T15:00:00",
          "2024-01-01T16:00:00",
          "2024-01-01T17:00:00",
          "2024-01-01T18:00:00",
          "2024-01-01T19:00:00",
          "2024-01-01T20:00:00",
          "2024-01-01T21:00:00",
          "2024-01-01T22:00:00",
          "2024-01-01T23:00:00",
          "2024-01-02T00:00:00",
          "2024-01-02T01:00:00",
          "2024-01-02T02:00:00",
          "2024-01-02T03:00:00",
          "2024-01-02T04:00:00",
          "2024-01-02T05:00:00",
          "2024-01-02T06:00:00",
          "2024-01-02T07:00:00",
          "2024-01-02T08:00:00",
          "2024-01-02T09:00:00",
          "2024-01-02T10:00:00",
          "2024-01-02T11:00:00",
          "2024-01-02T12:00:00",
          "2024-01-02T13:00:00",
          "2024-01-02T14:00:00",
          "2024-01-02T15:00:00",
          "2024-01-02T16:00:00",
          "2024-01-02T17:00:00",
          "2024-01-02T18:00:00",
          "2024-01-02T19:00:00",
          "2024-01-02T20:00:00",
          "2024-01-02T21:00:00",
          "2024-01-02T22:00:00",
          "2024-01-02T23:00:00",
          "2024-01-03T00:00:00",
          "2024-01-03T01:00:00",
          "2024-01-03T02:00:00",
          "2024-01-03T03:00:00",
          "2024-01-03T04:00:00",
          "2024-01-03T05:00:00",
          "2024-01-03T06:00:00",
          "2024-01-03T07:00:00",
          "2024-01-03T08:00:00",
          "2024-01-03T09:00:00",
          "2024-01-03T10:00:00",
          "2024-01-03T11:00:00",
          "2024-01-03T12:00:00",
          "2024-01-03T13:00:00",
          "2024-01-03T14:00:00",
          "2024-01-03T15:00:00",
          "2024-01-03T16:00:00",
          "2024-01-03T17:00:00",
          "2024-01-03T18:00:00",
          "2024-01-03T19:00:00",
          "2024-01-03T20:00:00",
          "2024-01-03T21:00:00",
          "2024-01-03T22:00:00",
          "2024-01-03T23:00:00",
          "2024-01-04T00:00:00",
          "2024-01-04T01:00:00",
          "2024-01-04T02:00:00",
          "2024-01-04T03:00:00",
          "2024-01-04T04:00:00",
          "2024-01-04T05:00:00",
          "2024-01-04T06:00:00",
          "2024-01-04T07:00:00",
          "2024-01-04T08:00:00",
          "2024-01-04T09:00:00",
          "2024-01-04T10:00:00",
          "2024-01-04T11:00:00",
          "2024-01-04T12:00:00",
          "2024-01-04T13:00:00",
          "2024-01-04T14:00:00",
          "2024-01-04T15:00:00",
          "2024-01-04T16:00:00",
          "2024-01-04T17:00:00",
          "2024-01-04T18:00:00",
          "2024-01-04T19:00:00",
          "2024-01-04T20:00:00",
          "2024-01-04T21:00:00",
          "2024-01-04T22:00:00",
          "2024-01-04T23:00:00",
          "2024-01-05T00:00:00",
          "2024-01-05T01:00:00",
          "2024-01-05T02:00:00",
          "2024-01-05T03:00:00",
          "2024-01-05T04:00:00",
          "2024-01-05T05:00:00",
          "2024-01-05T06:00:00",
          "2024-01-05T07:00:00",
          "2024-01-05T08:00:00",
          "2024-01-05T09:00:00",
          "2024-01-05T10:00:00",
          "2024-01-05T11:00:00",
          "2024-01-05T12:00:00",
          "2024-01-05T13:00:00",
          "2024-01-05T14:00:00",
          "2024-01-05T15:00:00",
          "2024-01-05T16:00:00",
          "2024-01-05T17:00:00",
          "2024-01-05T18:00:00",
          "2024-01-05T19:00:00",
          "2024-01-05T20:00:00",
          "2024-01-05T21:00:00",
          "2024-01-05T22:00:00",
          "2024-01-05T23:00:00",
          "2024-01-06T00:00:00",
          "2024-01-06T01:00:00",
          "2024-01-06T02:00:00",
          "2024-01-06T03:00:00",
          "2024-01-06T04:00:00",
          "2024-01-06T05:00:00",
          "2024-01-06T06:00:00",
          "2024-01-06T07:00:00",
          "2024-01-06T08:00:00",
          "2024-01-06T09:00:00",
          "2024-01-06T10:00:00",
          "2024-01-06T11:00:00",
          "2024-01-06T12:00:00",
          "2024-01-06T13:00:00",
          "2024-01-06T14:00:00",
          "2024-01-06T15:00:00",
          "2024-01-06T16:00:00",
          "2024-01-06T17:00:00",
          "2024-01-06T18:00:00",
          "2024-01-06T19:00:00",
          "2024-01-06T20:00:00",
          "2024-01-06T21:00:00",
          "2024-01-06T22:00:00",
          "2024-01-06T23:00:00",
          "2024-01-07T00:00:00",
          "2024-01-07T01:00:00",
          "2024-01-07T02:00:00",
          "2024-01-07T03:00:00",
          "2024-01-07T04:00:00",
          "2024-01-07T05:00:00",
          "2024-01-07T06:00:00",
          "2024-01-07T07:00:00",
          "2024-01-07T08:00:00",
          "2024-01-07T09:00:00",
          "2024-01-07T10:00:00",
          "2024-01-07T11:00:00",
          "2024-01-07T12:00:00",
          "2024-01-07T13:00:00",
          "2024-01-07T14:00:00",
          "2024-01-07T15:00:00",
          "2024-01-07T16:00:00",
          "2024-01-07T17:00:00",
          "2024-01-07T18:00:00",
          "2024-01-07T19:00:00",
          "2024-01-07T20:00:00",
          "2024-01-07T21:00:00",
          "2024-01-07T22:00:00",
          "2024-01-07T23:00:00"
         ],
         "y": [
          0,
          0,
          0,
          0,
          0,
          0,
          0,
          0,
          0,
          0,
          0,
          0,
          1,
          1,
          1,
          1,
          1,
          1,
          1,
          1,
          1,
          1,
          1,
          1,
          0,
          0,
          0,
          0,
          0,
          0,
          0,
          0,
          0,
          0,
          1,
          1,
          1,
          1,
          1,
          1,
          1,
          1,
          1,
          1,
          1,
          1,
          0,
          0,
          0,
          0,
          0,
          0,
          0,
          0,
          0,
          0,
          0,
          0,
          0,
          0,
          1,
          1,
          1,
          1,
          1,
          1,
          1,
          1,
          1,
          1,
          1,
          1,
          0,
          0,
          0,
          0,
          0,
          0,
          0,
          0,
          0,
          0,
          0,
          0,
          1,
          1,
          1,
          1,
          1,
          1,
          1,
          1,
          1,
          1,
          1,
          1,
          0,
          0,
          0,
          0,
          0,
          0,
          0,
          0,
          0,
          0,
          0,
          0,
          0,
          0,
          0,
          0,
          0,
          0,
          0,
          0,
          0,
          0,
          0,
          0,
          0,
          0,
          0,
          0,
          0,
          0,
          0,
          0,
          0,
          0,
          0,
          0,
          1,
          1,
          1,
          1,
          1,
          1,
          1,
          1,
          1,
          1,
          1,
          1,
          0,
          0,
          0,
          0,
          0,
          0,
          0,
          0,
          0,
          0,
          0,
          0,
          1,
          1,
          1,
          1,
          1,
          1,
          1,
          1,
          1,
          1,
          1,
          1
         ]
        },
        {
         "name": "Staff 101",
         "type": "bar",
         "x": [
          "2024-01-01T00:00:00",
          "2024-01-01T01:00:00",
          "2024-01-01T02:00:00",
          "2024-01-01T03:00:00",
          "2024-01-01T04:00:00",
          "2024-01-01T05:00:00",
          "2024-01-01T06:00:00",
          "2024-01-01T07:00:00",
          "2024-01-01T08:00:00",
          "2024-01-01T09:00:00",
          "2024-01-01T10:00:00",
          "2024-01-01T11:00:00",
          "2024-01-01T12:00:00",
          "2024-01-01T13:00:00",
          "2024-01-01T14:00:00",
          "2024-01-01T15:00:00",
          "2024-01-01T16:00:00",
          "2024-01-01T17:00:00",
          "2024-01-01T18:00:00",
          "2024-01-01T19:00:00",
          "2024-01-01T20:00:00",
          "2024-01-01T21:00:00",
          "2024-01-01T22:00:00",
          "2024-01-01T23:00:00",
          "2024-01-02T00:00:00",
          "2024-01-02T01:00:00",
          "2024-01-02T02:00:00",
          "2024-01-02T03:00:00",
          "2024-01-02T04:00:00",
          "2024-01-02T05:00:00",
          "2024-01-02T06:00:00",
          "2024-01-02T07:00:00",
          "2024-01-02T08:00:00",
          "2024-01-02T09:00:00",
          "2024-01-02T10:00:00",
          "2024-01-02T11:00:00",
          "2024-01-02T12:00:00",
          "2024-01-02T13:00:00",
          "2024-01-02T14:00:00",
          "2024-01-02T15:00:00",
          "2024-01-02T16:00:00",
          "2024-01-02T17:00:00",
          "2024-01-02T18:00:00",
          "2024-01-02T19:00:00",
          "2024-01-02T20:00:00",
          "2024-01-02T21:00:00",
          "2024-01-02T22:00:00",
          "2024-01-02T23:00:00",
          "2024-01-03T00:00:00",
          "2024-01-03T01:00:00",
          "2024-01-03T02:00:00",
          "2024-01-03T03:00:00",
          "2024-01-03T04:00:00",
          "2024-01-03T05:00:00",
          "2024-01-03T06:00:00",
          "2024-01-03T07:00:00",
          "2024-01-03T08:00:00",
          "2024-01-03T09:00:00",
          "2024-01-03T10:00:00",
          "2024-01-03T11:00:00",
          "2024-01-03T12:00:00",
          "2024-01-03T13:00:00",
          "2024-01-03T14:00:00",
          "2024-01-03T15:00:00",
          "2024-01-03T16:00:00",
          "2024-01-03T17:00:00",
          "2024-01-03T18:00:00",
          "2024-01-03T19:00:00",
          "2024-01-03T20:00:00",
          "2024-01-03T21:00:00",
          "2024-01-03T22:00:00",
          "2024-01-03T23:00:00",
          "2024-01-04T00:00:00",
          "2024-01-04T01:00:00",
          "2024-01-04T02:00:00",
          "2024-01-04T03:00:00",
          "2024-01-04T04:00:00",
          "2024-01-04T05:00:00",
          "2024-01-04T06:00:00",
          "2024-01-04T07:00:00",
          "2024-01-04T08:00:00",
          "2024-01-04T09:00:00",
          "2024-01-04T10:00:00",
          "2024-01-04T11:00:00",
          "2024-01-04T12:00:00",
          "2024-01-04T13:00:00",
          "2024-01-04T14:00:00",
          "2024-01-04T15:00:00",
          "2024-01-04T16:00:00",
          "2024-01-04T17:00:00",
          "2024-01-04T18:00:00",
          "2024-01-04T19:00:00",
          "2024-01-04T20:00:00",
          "2024-01-04T21:00:00",
          "2024-01-04T22:00:00",
          "2024-01-04T23:00:00",
          "2024-01-05T00:00:00",
          "2024-01-05T01:00:00",
          "2024-01-05T02:00:00",
          "2024-01-05T03:00:00",
          "2024-01-05T04:00:00",
          "2024-01-05T05:00:00",
          "2024-01-05T06:00:00",
          "2024-01-05T07:00:00",
          "2024-01-05T08:00:00",
          "2024-01-05T09:00:00",
          "2024-01-05T10:00:00",
          "2024-01-05T11:00:00",
          "2024-01-05T12:00:00",
          "2024-01-05T13:00:00",
          "2024-01-05T14:00:00",
          "2024-01-05T15:00:00",
          "2024-01-05T16:00:00",
          "2024-01-05T17:00:00",
          "2024-01-05T18:00:00",
          "2024-01-05T19:00:00",
          "2024-01-05T20:00:00",
          "2024-01-05T21:00:00",
          "2024-01-05T22:00:00",
          "2024-01-05T23:00:00",
          "2024-01-06T00:00:00",
          "2024-01-06T01:00:00",
          "2024-01-06T02:00:00",
          "2024-01-06T03:00:00",
          "2024-01-06T04:00:00",
          "2024-01-06T05:00:00",
          "2024-01-06T06:00:00",
          "2024-01-06T07:00:00",
          "2024-01-06T08:00:00",
          "2024-01-06T09:00:00",
          "2024-01-06T10:00:00",
          "2024-01-06T11:00:00",
          "2024-01-06T12:00:00",
          "2024-01-06T13:00:00",
          "2024-01-06T14:00:00",
          "2024-01-06T15:00:00",
          "2024-01-06T16:00:00",
          "2024-01-06T17:00:00",
          "2024-01-06T18:00:00",
          "2024-01-06T19:00:00",
          "2024-01-06T20:00:00",
          "2024-01-06T21:00:00",
          "2024-01-06T22:00:00",
          "2024-01-06T23:00:00",
          "2024-01-07T00:00:00",
          "2024-01-07T01:00:00",
          "2024-01-07T02:00:00",
          "2024-01-07T03:00:00",
          "2024-01-07T04:00:00",
          "2024-01-07T05:00:00",
          "2024-01-07T06:00:00",
          "2024-01-07T07:00:00",
          "2024-01-07T08:00:00",
          "2024-01-07T09:00:00",
          "2024-01-07T10:00:00",
          "2024-01-07T11:00:00",
          "2024-01-07T12:00:00",
          "2024-01-07T13:00:00",
          "2024-01-07T14:00:00",
          "2024-01-07T15:00:00",
          "2024-01-07T16:00:00",
          "2024-01-07T17:00:00",
          "2024-01-07T18:00:00",
          "2024-01-07T19:00:00",
          "2024-01-07T20:00:00",
          "2024-01-07T21:00:00",
          "2024-01-07T22:00:00",
          "2024-01-07T23:00:00"
         ],
         "y": [
          1,
          1,
          1,
          1,
          1,
          1,
          1,
          1,
          1,
          0,
          0,
          0,
          0,
          0,
          0,
          0,
          0,
          0,
          0,
          0,
          0,
          0,
          0,
          0,
          0,
          1,
          1,
          1,
          1,
          1,
          1,
          1,
          1,
          1,
          0,
          0,
          0,
          0,
          0,
          0,
          0,
          0,
          0,
          0,
          0,
          0,
          0,
          0,
          0,
          0,
          0,
          1,
          1,
          1,
          1,
          1,
          1,
          1,
          1,
          1,
          0,
          0,
          0,
          0,
          0,
          0,
          0,
          0,
          0,
          0,
          0,
          0,
          1,
          1,
          1,
          1,
          1,
          1,
          1,
          1,
          1,
          0,
          0,
          0,
          0,
          0,
          0,
          0,
          0,
          0,
          0,
          0,
          0,
          0,
          0,
          0,
          0,
          0,
          0,
          1,
          1,
          1,
          1,
          1,
          1,
          1,
          1,
          1,
          0,
          0,
          0,
          0,
          0,
          0,
          0,
          0,
          0,
          0,
          0,
          0,
          1,
          1,
          1,
          1,
          1,
          1,
          1,
          1,
          1,
          0,
          0,
          0,
          0,
          0,
          0,
          0,
          0,
          0,
          0,
          0,
          0,
          0,
          0,
          0,
          0,
          0,
          0,
          0,
          0,
          0,
          0,
          0,
          0,
          0,
          0,
          0,
          0,
          0,
          0,
          0,
          0,
          0,
          0,
          0,
          0,
          0,
          0,
          0
         ]
        },
        {
         "line": {
          "color": "gray",
          "width": 2
         },
         "mode": "lines",
         "name": "Demand",
         "type": "scatter",
         "x": [
          "2024-01-01T00:00:00",
          "2024-01-01T01:00:00",
          "2024-01-01T02:00:00",
          "2024-01-01T03:00:00",
          "2024-01-01T04:00:00",
          "2024-01-01T05:00:00",
          "2024-01-01T06:00:00",
          "2024-01-01T07:00:00",
          "2024-01-01T08:00:00",
          "2024-01-01T09:00:00",
          "2024-01-01T10:00:00",
          "2024-01-01T11:00:00",
          "2024-01-01T12:00:00",
          "2024-01-01T13:00:00",
          "2024-01-01T14:00:00",
          "2024-01-01T15:00:00",
          "2024-01-01T16:00:00",
          "2024-01-01T17:00:00",
          "2024-01-01T18:00:00",
          "2024-01-01T19:00:00",
          "2024-01-01T20:00:00",
          "2024-01-01T21:00:00",
          "2024-01-01T22:00:00",
          "2024-01-01T23:00:00",
          "2024-01-02T00:00:00",
          "2024-01-02T01:00:00",
          "2024-01-02T02:00:00",
          "2024-01-02T03:00:00",
          "2024-01-02T04:00:00",
          "2024-01-02T05:00:00",
          "2024-01-02T06:00:00",
          "2024-01-02T07:00:00",
          "2024-01-02T08:00:00",
          "2024-01-02T09:00:00",
          "2024-01-02T10:00:00",
          "2024-01-02T11:00:00",
          "2024-01-02T12:00:00",
          "2024-01-02T13:00:00",
          "2024-01-02T14:00:00",
          "2024-01-02T15:00:00",
          "2024-01-02T16:00:00",
          "2024-01-02T17:00:00",
          "2024-01-02T18:00:00",
          "2024-01-02T19:00:00",
          "2024-01-02T20:00:00",
          "2024-01-02T21:00:00",
          "2024-01-02T22:00:00",
          "2024-01-02T23:00:00",
          "2024-01-03T00:00:00",
          "2024-01-03T01:00:00",
          "2024-01-03T02:00:00",
          "2024-01-03T03:00:00",
          "2024-01-03T04:00:00",
          "2024-01-03T05:00:00",
          "2024-01-03T06:00:00",
          "2024-01-03T07:00:00",
          "2024-01-03T08:00:00",
          "2024-01-03T09:00:00",
          "2024-01-03T10:00:00",
          "2024-01-03T11:00:00",
          "2024-01-03T12:00:00",
          "2024-01-03T13:00:00",
          "2024-01-03T14:00:00",
          "2024-01-03T15:00:00",
          "2024-01-03T16:00:00",
          "2024-01-03T17:00:00",
          "2024-01-03T18:00:00",
          "2024-01-03T19:00:00",
          "2024-01-03T20:00:00",
          "2024-01-03T21:00:00",
          "2024-01-03T22:00:00",
          "2024-01-03T23:00:00",
          "2024-01-04T00:00:00",
          "2024-01-04T01:00:00",
          "2024-01-04T02:00:00",
          "2024-01-04T03:00:00",
          "2024-01-04T04:00:00",
          "2024-01-04T05:00:00",
          "2024-01-04T06:00:00",
          "2024-01-04T07:00:00",
          "2024-01-04T08:00:00",
          "2024-01-04T09:00:00",
          "2024-01-04T10:00:00",
          "2024-01-04T11:00:00",
          "2024-01-04T12:00:00",
          "2024-01-04T13:00:00",
          "2024-01-04T14:00:00",
          "2024-01-04T15:00:00",
          "2024-01-04T16:00:00",
          "2024-01-04T17:00:00",
          "2024-01-04T18:00:00",
          "2024-01-04T19:00:00",
          "2024-01-04T20:00:00",
          "2024-01-04T21:00:00",
          "2024-01-04T22:00:00",
          "2024-01-04T23:00:00",
          "2024-01-05T00:00:00",
          "2024-01-05T01:00:00",
          "2024-01-05T02:00:00",
          "2024-01-05T03:00:00",
          "2024-01-05T04:00:00",
          "2024-01-05T05:00:00",
          "2024-01-05T06:00:00",
          "2024-01-05T07:00:00",
          "2024-01-05T08:00:00",
          "2024-01-05T09:00:00",
          "2024-01-05T10:00:00",
          "2024-01-05T11:00:00",
          "2024-01-05T12:00:00",
          "2024-01-05T13:00:00",
          "2024-01-05T14:00:00",
          "2024-01-05T15:00:00",
          "2024-01-05T16:00:00",
          "2024-01-05T17:00:00",
          "2024-01-05T18:00:00",
          "2024-01-05T19:00:00",
          "2024-01-05T20:00:00",
          "2024-01-05T21:00:00",
          "2024-01-05T22:00:00",
          "2024-01-05T23:00:00",
          "2024-01-06T00:00:00",
          "2024-01-06T01:00:00",
          "2024-01-06T02:00:00",
          "2024-01-06T03:00:00",
          "2024-01-06T04:00:00",
          "2024-01-06T05:00:00",
          "2024-01-06T06:00:00",
          "2024-01-06T07:00:00",
          "2024-01-06T08:00:00",
          "2024-01-06T09:00:00",
          "2024-01-06T10:00:00",
          "2024-01-06T11:00:00",
          "2024-01-06T12:00:00",
          "2024-01-06T13:00:00",
          "2024-01-06T14:00:00",
          "2024-01-06T15:00:00",
          "2024-01-06T16:00:00",
          "2024-01-06T17:00:00",
          "2024-01-06T18:00:00",
          "2024-01-06T19:00:00",
          "2024-01-06T20:00:00",
          "2024-01-06T21:00:00",
          "2024-01-06T22:00:00",
          "2024-01-06T23:00:00",
          "2024-01-07T00:00:00",
          "2024-01-07T01:00:00",
          "2024-01-07T02:00:00",
          "2024-01-07T03:00:00",
          "2024-01-07T04:00:00",
          "2024-01-07T05:00:00",
          "2024-01-07T06:00:00",
          "2024-01-07T07:00:00",
          "2024-01-07T08:00:00",
          "2024-01-07T09:00:00",
          "2024-01-07T10:00:00",
          "2024-01-07T11:00:00",
          "2024-01-07T12:00:00",
          "2024-01-07T13:00:00",
          "2024-01-07T14:00:00",
          "2024-01-07T15:00:00",
          "2024-01-07T16:00:00",
          "2024-01-07T17:00:00",
          "2024-01-07T18:00:00",
          "2024-01-07T19:00:00",
          "2024-01-07T20:00:00",
          "2024-01-07T21:00:00",
          "2024-01-07T22:00:00",
          "2024-01-07T23:00:00"
         ],
         "y": [
          4,
          3,
          3,
          3,
          3,
          3,
          3,
          3,
          3,
          3,
          3,
          3,
          3,
          4,
          4,
          4,
          3,
          3,
          3,
          3,
          3,
          3,
          4,
          3,
          3,
          3,
          3,
          3,
          3,
          3,
          3,
          3,
          3,
          3,
          3,
          3,
          3,
          3,
          3,
          3,
          3,
          3,
          3,
          3,
          3,
          4,
          3,
          3,
          3,
          3,
          3,
          3,
          3,
          3,
          3,
          3,
          3,
          3,
          3,
          3,
          3,
          3,
          4,
          3,
          3,
          3,
          3,
          3,
          3,
          4,
          4,
          4,
          4,
          3,
          3,
          3,
          3,
          3,
          3,
          3,
          3,
          3,
          3,
          3,
          3,
          4,
          4,
          4,
          3,
          3,
          3,
          3,
          3,
          4,
          4,
          4,
          3,
          3,
          3,
          3,
          3,
          3,
          3,
          3,
          3,
          3,
          3,
          3,
          4,
          4,
          4,
          3,
          3,
          3,
          3,
          3,
          3,
          4,
          5,
          4,
          5,
          4,
          3,
          3,
          3,
          3,
          3,
          3,
          3,
          3,
          3,
          3,
          3,
          3,
          3,
          3,
          3,
          3,
          3,
          3,
          3,
          4,
          4,
          4,
          4,
          4,
          4,
          3,
          3,
          3,
          3,
          3,
          3,
          3,
          3,
          3,
          3,
          3,
          3,
          3,
          3,
          3,
          3,
          3,
          4,
          4,
          4,
          4
         ]
        }
       ],
       "layout": {
        "barmode": "stack",
        "shapes": [
         {
          "line": {
           "color": "black",
           "dash": "dot"
          },
          "type": "line",
          "x0": "2024-01-01T00:00:00",
          "x1": "2024-01-01T00:00:00",
          "xref": "x",
          "y0": 0,
          "y1": 1,
          "yref": "y domain"
         },
         {
          "line": {
           "color": "black",
           "dash": "dot"
          },
          "type": "line",
          "x0": "2024-01-02T00:00:00",
          "x1": "2024-01-02T00:00:00",
          "xref": "x",
          "y0": 0,
          "y1": 1,
          "yref": "y domain"
         },
         {
          "line": {
           "color": "black",
           "dash": "dot"
          },
          "type": "line",
          "x0": "2024-01-03T00:00:00",
          "x1": "2024-01-03T00:00:00",
          "xref": "x",
          "y0": 0,
          "y1": 1,
          "yref": "y domain"
         },
         {
          "line": {
           "color": "black",
           "dash": "dot"
          },
          "type": "line",
          "x0": "2024-01-04T00:00:00",
          "x1": "2024-01-04T00:00:00",
          "xref": "x",
          "y0": 0,
          "y1": 1,
          "yref": "y domain"
         },
         {
          "line": {
           "color": "black",
           "dash": "dot"
          },
          "type": "line",
          "x0": "2024-01-05T00:00:00",
          "x1": "2024-01-05T00:00:00",
          "xref": "x",
          "y0": 0,
          "y1": 1,
          "yref": "y domain"
         },
         {
          "line": {
           "color": "black",
           "dash": "dot"
          },
          "type": "line",
          "x0": "2024-01-06T00:00:00",
          "x1": "2024-01-06T00:00:00",
          "xref": "x",
          "y0": 0,
          "y1": 1,
          "yref": "y domain"
         },
         {
          "line": {
           "color": "black",
           "dash": "dot"
          },
          "type": "line",
          "x0": "2024-01-07T00:00:00",
          "x1": "2024-01-07T00:00:00",
          "xref": "x",
          "y0": 0,
          "y1": 1,
          "yref": "y domain"
         }
        ],
        "template": {
         "data": {
          "bar": [
           {
            "error_x": {
             "color": "#2a3f5f"
            },
            "error_y": {
             "color": "#2a3f5f"
            },
            "marker": {
             "line": {
              "color": "white",
              "width": 0.5
             },
             "pattern": {
              "fillmode": "overlay",
              "size": 10,
              "solidity": 0.2
             }
            },
            "type": "bar"
           }
          ],
          "barpolar": [
           {
            "marker": {
             "line": {
              "color": "white",
              "width": 0.5
             },
             "pattern": {
              "fillmode": "overlay",
              "size": 10,
              "solidity": 0.2
             }
            },
            "type": "barpolar"
           }
          ],
          "carpet": [
           {
            "aaxis": {
             "endlinecolor": "#2a3f5f",
             "gridcolor": "#C8D4E3",
             "linecolor": "#C8D4E3",
             "minorgridcolor": "#C8D4E3",
             "startlinecolor": "#2a3f5f"
            },
            "baxis": {
             "endlinecolor": "#2a3f5f",
             "gridcolor": "#C8D4E3",
             "linecolor": "#C8D4E3",
             "minorgridcolor": "#C8D4E3",
             "startlinecolor": "#2a3f5f"
            },
            "type": "carpet"
           }
          ],
          "choropleth": [
           {
            "colorbar": {
             "outlinewidth": 0,
             "ticks": ""
            },
            "type": "choropleth"
           }
          ],
          "contour": [
           {
            "colorbar": {
             "outlinewidth": 0,
             "ticks": ""
            },
            "colorscale": [
             [
              0,
              "#0d0887"
             ],
             [
              0.1111111111111111,
              "#46039f"
             ],
             [
              0.2222222222222222,
              "#7201a8"
             ],
             [
              0.3333333333333333,
              "#9c179e"
             ],
             [
              0.4444444444444444,
              "#bd3786"
             ],
             [
              0.5555555555555556,
              "#d8576b"
             ],
             [
              0.6666666666666666,
              "#ed7953"
             ],
             [
              0.7777777777777778,
              "#fb9f3a"
             ],
             [
              0.8888888888888888,
              "#fdca26"
             ],
             [
              1,
              "#f0f921"
             ]
            ],
            "type": "contour"
           }
          ],
          "contourcarpet": [
           {
            "colorbar": {
             "outlinewidth": 0,
             "ticks": ""
            },
            "type": "contourcarpet"
           }
          ],
          "heatmap": [
           {
            "colorbar": {
             "outlinewidth": 0,
             "ticks": ""
            },
            "colorscale": [
             [
              0,
              "#0d0887"
             ],
             [
              0.1111111111111111,
              "#46039f"
             ],
             [
              0.2222222222222222,
              "#7201a8"
             ],
             [
              0.3333333333333333,
              "#9c179e"
             ],
             [
              0.4444444444444444,
              "#bd3786"
             ],
             [
              0.5555555555555556,
              "#d8576b"
             ],
             [
              0.6666666666666666,
              "#ed7953"
             ],
             [
              0.7777777777777778,
              "#fb9f3a"
             ],
             [
              0.8888888888888888,
              "#fdca26"
             ],
             [
              1,
              "#f0f921"
             ]
            ],
            "type": "heatmap"
           }
          ],
          "heatmapgl": [
           {
            "colorbar": {
             "outlinewidth": 0,
             "ticks": ""
            },
            "colorscale": [
             [
              0,
              "#0d0887"
             ],
             [
              0.1111111111111111,
              "#46039f"
             ],
             [
              0.2222222222222222,
              "#7201a8"
             ],
             [
              0.3333333333333333,
              "#9c179e"
             ],
             [
              0.4444444444444444,
              "#bd3786"
             ],
             [
              0.5555555555555556,
              "#d8576b"
             ],
             [
              0.6666666666666666,
              "#ed7953"
             ],
             [
              0.7777777777777778,
              "#fb9f3a"
             ],
             [
              0.8888888888888888,
              "#fdca26"
             ],
             [
              1,
              "#f0f921"
             ]
            ],
            "type": "heatmapgl"
           }
          ],
          "histogram": [
           {
            "marker": {
             "pattern": {
              "fillmode": "overlay",
              "size": 10,
              "solidity": 0.2
             }
            },
            "type": "histogram"
           }
          ],
          "histogram2d": [
           {
            "colorbar": {
             "outlinewidth": 0,
             "ticks": ""
            },
            "colorscale": [
             [
              0,
              "#0d0887"
             ],
             [
              0.1111111111111111,
              "#46039f"
             ],
             [
              0.2222222222222222,
              "#7201a8"
             ],
             [
              0.3333333333333333,
              "#9c179e"
             ],
             [
              0.4444444444444444,
              "#bd3786"
             ],
             [
              0.5555555555555556,
              "#d8576b"
             ],
             [
              0.6666666666666666,
              "#ed7953"
             ],
             [
              0.7777777777777778,
              "#fb9f3a"
             ],
             [
              0.8888888888888888,
              "#fdca26"
             ],
             [
              1,
              "#f0f921"
             ]
            ],
            "type": "histogram2d"
           }
          ],
          "histogram2dcontour": [
           {
            "colorbar": {
             "outlinewidth": 0,
             "ticks": ""
            },
            "colorscale": [
             [
              0,
              "#0d0887"
             ],
             [
              0.1111111111111111,
              "#46039f"
             ],
             [
              0.2222222222222222,
              "#7201a8"
             ],
             [
              0.3333333333333333,
              "#9c179e"
             ],
             [
              0.4444444444444444,
              "#bd3786"
             ],
             [
              0.5555555555555556,
              "#d8576b"
             ],
             [
              0.6666666666666666,
              "#ed7953"
             ],
             [
              0.7777777777777778,
              "#fb9f3a"
             ],
             [
              0.8888888888888888,
              "#fdca26"
             ],
             [
              1,
              "#f0f921"
             ]
            ],
            "type": "histogram2dcontour"
           }
          ],
          "mesh3d": [
           {
            "colorbar": {
             "outlinewidth": 0,
             "ticks": ""
            },
            "type": "mesh3d"
           }
          ],
          "parcoords": [
           {
            "line": {
             "colorbar": {
              "outlinewidth": 0,
              "ticks": ""
             }
            },
            "type": "parcoords"
           }
          ],
          "pie": [
           {
            "automargin": true,
            "type": "pie"
           }
          ],
          "scatter": [
           {
            "fillpattern": {
             "fillmode": "overlay",
             "size": 10,
             "solidity": 0.2
            },
            "type": "scatter"
           }
          ],
          "scatter3d": [
           {
            "line": {
             "colorbar": {
              "outlinewidth": 0,
              "ticks": ""
             }
            },
            "marker": {
             "colorbar": {
              "outlinewidth": 0,
              "ticks": ""
             }
            },
            "type": "scatter3d"
           }
          ],
          "scattercarpet": [
           {
            "marker": {
             "colorbar": {
              "outlinewidth": 0,
              "ticks": ""
             }
            },
            "type": "scattercarpet"
           }
          ],
          "scattergeo": [
           {
            "marker": {
             "colorbar": {
              "outlinewidth": 0,
              "ticks": ""
             }
            },
            "type": "scattergeo"
           }
          ],
          "scattergl": [
           {
            "marker": {
             "colorbar": {
              "outlinewidth": 0,
              "ticks": ""
             }
            },
            "type": "scattergl"
           }
          ],
          "scattermapbox": [
           {
            "marker": {
             "colorbar": {
              "outlinewidth": 0,
              "ticks": ""
             }
            },
            "type": "scattermapbox"
           }
          ],
          "scatterpolar": [
           {
            "marker": {
             "colorbar": {
              "outlinewidth": 0,
              "ticks": ""
             }
            },
            "type": "scatterpolar"
           }
          ],
          "scatterpolargl": [
           {
            "marker": {
             "colorbar": {
              "outlinewidth": 0,
              "ticks": ""
             }
            },
            "type": "scatterpolargl"
           }
          ],
          "scatterternary": [
           {
            "marker": {
             "colorbar": {
              "outlinewidth": 0,
              "ticks": ""
             }
            },
            "type": "scatterternary"
           }
          ],
          "surface": [
           {
            "colorbar": {
             "outlinewidth": 0,
             "ticks": ""
            },
            "colorscale": [
             [
              0,
              "#0d0887"
             ],
             [
              0.1111111111111111,
              "#46039f"
             ],
             [
              0.2222222222222222,
              "#7201a8"
             ],
             [
              0.3333333333333333,
              "#9c179e"
             ],
             [
              0.4444444444444444,
              "#bd3786"
             ],
             [
              0.5555555555555556,
              "#d8576b"
             ],
             [
              0.6666666666666666,
              "#ed7953"
             ],
             [
              0.7777777777777778,
              "#fb9f3a"
             ],
             [
              0.8888888888888888,
              "#fdca26"
             ],
             [
              1,
              "#f0f921"
             ]
            ],
            "type": "surface"
           }
          ],
          "table": [
           {
            "cells": {
             "fill": {
              "color": "#EBF0F8"
             },
             "line": {
              "color": "white"
             }
            },
            "header": {
             "fill": {
              "color": "#C8D4E3"
             },
             "line": {
              "color": "white"
             }
            },
            "type": "table"
           }
          ]
         },
         "layout": {
          "annotationdefaults": {
           "arrowcolor": "#2a3f5f",
           "arrowhead": 0,
           "arrowwidth": 1
          },
          "autotypenumbers": "strict",
          "coloraxis": {
           "colorbar": {
            "outlinewidth": 0,
            "ticks": ""
           }
          },
          "colorscale": {
           "diverging": [
            [
             0,
             "#8e0152"
            ],
            [
             0.1,
             "#c51b7d"
            ],
            [
             0.2,
             "#de77ae"
            ],
            [
             0.3,
             "#f1b6da"
            ],
            [
             0.4,
             "#fde0ef"
            ],
            [
             0.5,
             "#f7f7f7"
            ],
            [
             0.6,
             "#e6f5d0"
            ],
            [
             0.7,
             "#b8e186"
            ],
            [
             0.8,
             "#7fbc41"
            ],
            [
             0.9,
             "#4d9221"
            ],
            [
             1,
             "#276419"
            ]
           ],
           "sequential": [
            [
             0,
             "#0d0887"
            ],
            [
             0.1111111111111111,
             "#46039f"
            ],
            [
             0.2222222222222222,
             "#7201a8"
            ],
            [
             0.3333333333333333,
             "#9c179e"
            ],
            [
             0.4444444444444444,
             "#bd3786"
            ],
            [
             0.5555555555555556,
             "#d8576b"
            ],
            [
             0.6666666666666666,
             "#ed7953"
            ],
            [
             0.7777777777777778,
             "#fb9f3a"
            ],
            [
             0.8888888888888888,
             "#fdca26"
            ],
            [
             1,
             "#f0f921"
            ]
           ],
           "sequentialminus": [
            [
             0,
             "#0d0887"
            ],
            [
             0.1111111111111111,
             "#46039f"
            ],
            [
             0.2222222222222222,
             "#7201a8"
            ],
            [
             0.3333333333333333,
             "#9c179e"
            ],
            [
             0.4444444444444444,
             "#bd3786"
            ],
            [
             0.5555555555555556,
             "#d8576b"
            ],
            [
             0.6666666666666666,
             "#ed7953"
            ],
            [
             0.7777777777777778,
             "#fb9f3a"
            ],
            [
             0.8888888888888888,
             "#fdca26"
            ],
            [
             1,
             "#f0f921"
            ]
           ]
          },
          "colorway": [
           "#636efa",
           "#EF553B",
           "#00cc96",
           "#ab63fa",
           "#FFA15A",
           "#19d3f3",
           "#FF6692",
           "#B6E880",
           "#FF97FF",
           "#FECB52"
          ],
          "font": {
           "color": "#2a3f5f"
          },
          "geo": {
           "bgcolor": "white",
           "lakecolor": "white",
           "landcolor": "white",
           "showlakes": true,
           "showland": true,
           "subunitcolor": "#C8D4E3"
          },
          "hoverlabel": {
           "align": "left"
          },
          "hovermode": "closest",
          "mapbox": {
           "style": "light"
          },
          "paper_bgcolor": "white",
          "plot_bgcolor": "white",
          "polar": {
           "angularaxis": {
            "gridcolor": "#EBF0F8",
            "linecolor": "#EBF0F8",
            "ticks": ""
           },
           "bgcolor": "white",
           "radialaxis": {
            "gridcolor": "#EBF0F8",
            "linecolor": "#EBF0F8",
            "ticks": ""
           }
          },
          "scene": {
           "xaxis": {
            "backgroundcolor": "white",
            "gridcolor": "#DFE8F3",
            "gridwidth": 2,
            "linecolor": "#EBF0F8",
            "showbackground": true,
            "ticks": "",
            "zerolinecolor": "#EBF0F8"
           },
           "yaxis": {
            "backgroundcolor": "white",
            "gridcolor": "#DFE8F3",
            "gridwidth": 2,
            "linecolor": "#EBF0F8",
            "showbackground": true,
            "ticks": "",
            "zerolinecolor": "#EBF0F8"
           },
           "zaxis": {
            "backgroundcolor": "white",
            "gridcolor": "#DFE8F3",
            "gridwidth": 2,
            "linecolor": "#EBF0F8",
            "showbackground": true,
            "ticks": "",
            "zerolinecolor": "#EBF0F8"
           }
          },
          "shapedefaults": {
           "line": {
            "color": "#2a3f5f"
           }
          },
          "ternary": {
           "aaxis": {
            "gridcolor": "#DFE8F3",
            "linecolor": "#A2B1C6",
            "ticks": ""
           },
           "baxis": {
            "gridcolor": "#DFE8F3",
            "linecolor": "#A2B1C6",
            "ticks": ""
           },
           "bgcolor": "white",
           "caxis": {
            "gridcolor": "#DFE8F3",
            "linecolor": "#A2B1C6",
            "ticks": ""
           }
          },
          "title": {
           "x": 0.05
          },
          "xaxis": {
           "automargin": true,
           "gridcolor": "#EBF0F8",
           "linecolor": "#EBF0F8",
           "ticks": "",
           "title": {
            "standoff": 15
           },
           "zerolinecolor": "#EBF0F8",
           "zerolinewidth": 2
          },
          "yaxis": {
           "automargin": true,
           "gridcolor": "#EBF0F8",
           "linecolor": "#EBF0F8",
           "ticks": "",
           "title": {
            "standoff": 15
           },
           "zerolinecolor": "#EBF0F8",
           "zerolinewidth": 2
          }
         }
        },
        "title": {
         "text": "Staff Allocation vs Demand"
        },
        "xaxis": {
         "title": {
          "text": "Date Time"
         }
        },
        "yaxis": {
         "title": {
          "text": "Count"
         }
        }
       }
      }
     },
     "metadata": {},
     "output_type": "display_data"
    }
   ],
   "source": [
    "# graph demand actual vs demand\n",
    "\n",
    "# Expand `start_date` and `end_date` into hourly intervals\n",
    "expanded_rows = []\n",
    "for _, row in df.iterrows():\n",
    "    expanded_hours = pd.date_range(row['start_date_time'], row['end_date_time'], freq='h')\n",
    "    expanded_rows.extend([{'date_time': dt, 'count': 1, 'staff_id': row['staff_id']} for dt in expanded_hours if dt<row['end_date_time']])\n",
    "\n",
    "df_expanded = pd.DataFrame(expanded_rows).groupby(['date_time', 'staff_id'], as_index=False).count()\n",
    "df_pivot = df_expanded.pivot(index='date_time', columns='staff_id', values='count').fillna(0)\n",
    "\n",
    "# Create the figure\n",
    "fig = go.Figure()\n",
    "\n",
    "# Add stacked bars for each staff_id\n",
    "for staff_id in sorted(df_pivot.columns, reverse=True):\n",
    "    fig.add_trace(go.Bar(\n",
    "        x=df_pivot.index,\n",
    "        y=df_pivot[staff_id],\n",
    "        name=f'Staff {staff_id}',\n",
    "    ))\n",
    "\n",
    "# Add demand as a line\n",
    "fig.add_trace(go.Scatter(\n",
    "    x=demand_df['date_time'],\n",
    "    y=demand_df['demand'],\n",
    "    mode='lines',\n",
    "    name='Demand',\n",
    "    line=dict(color='gray', width=2)\n",
    "))\n",
    "\n",
    "# Add vertical lines for the start of each day\n",
    "start_of_days = pd.to_datetime(df_pivot.index.normalize()).drop_duplicates()\n",
    "for day_start in start_of_days:\n",
    "    fig.add_vline(\n",
    "        x=day_start,\n",
    "        line=dict(color='black', dash='dot')\n",
    "    )\n",
    "\n",
    "# Update layout\n",
    "fig.update_layout(\n",
    "    title='Staff Allocation vs Demand',\n",
    "    xaxis_title='Date Time',\n",
    "    yaxis_title='Count',\n",
    "    barmode='stack',  # Stacked bar chart\n",
    "    template='plotly_white'\n",
    ")\n",
    "\n",
    "# Show the figure\n",
    "fig.show()\n"
   ]
  }
 ],
 "metadata": {
  "kernelspec": {
   "display_name": "env",
   "language": "python",
   "name": "python3"
  },
  "language_info": {
   "codemirror_mode": {
    "name": "ipython",
    "version": 3
   },
   "file_extension": ".py",
   "mimetype": "text/x-python",
   "name": "python",
   "nbconvert_exporter": "python",
   "pygments_lexer": "ipython3",
   "version": "3.12.2"
  }
 },
 "nbformat": 4,
 "nbformat_minor": 2
}
